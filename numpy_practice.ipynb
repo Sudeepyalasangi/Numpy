{
 "cells": [
  {
   "cell_type": "markdown",
   "id": "fa848574-1ebb-46e1-abb9-1b2efa735be6",
   "metadata": {},
   "source": [
    "#1. Import the numpy package under the name np\n"
   ]
  },
  {
   "cell_type": "code",
   "execution_count": 197,
   "id": "92e8b539-b2c1-4a63-8504-133b8cb8604e",
   "metadata": {},
   "outputs": [],
   "source": [
    "import numpy as np"
   ]
  },
  {
   "cell_type": "markdown",
   "id": "859a566a-5c50-4d77-a608-f45374826680",
   "metadata": {},
   "source": [
    "#2. Print the numpy version and the configuration"
   ]
  },
  {
   "cell_type": "code",
   "execution_count": 203,
   "id": "50bf414b-ee94-4510-af87-ba63a610062a",
   "metadata": {},
   "outputs": [
    {
     "data": {
      "text/plain": [
       "'2.1.3'"
      ]
     },
     "execution_count": 203,
     "metadata": {},
     "output_type": "execute_result"
    }
   ],
   "source": [
    "(np.__version__)\n"
   ]
  },
  {
   "cell_type": "markdown",
   "id": "34854cc8-fb1f-4252-a05e-c5cd08ca58ba",
   "metadata": {},
   "source": [
    "#3. Create a null vector of size 10"
   ]
  },
  {
   "cell_type": "code",
   "execution_count": 199,
   "id": "a70e26e1-ff9d-4fe5-8b6e-23adc5a6930d",
   "metadata": {},
   "outputs": [
    {
     "data": {
      "text/plain": [
       "array([0., 0., 0., 0., 0., 0., 0., 0., 0., 0.])"
      ]
     },
     "execution_count": 199,
     "metadata": {},
     "output_type": "execute_result"
    }
   ],
   "source": [
    "np.zeros(10)\n"
   ]
  },
  {
   "cell_type": "markdown",
   "id": "1c529cbb-4cf2-4289-951a-a9ea67cc1812",
   "metadata": {},
   "source": [
    "#4. Create a vector with values ranging from 10 to 49"
   ]
  },
  {
   "cell_type": "code",
   "execution_count": 220,
   "id": "d20d33ed-163a-4f5b-a16d-e6afa50de279",
   "metadata": {},
   "outputs": [
    {
     "data": {
      "text/plain": [
       "array([[ 0,  1,  2,  3,  4,  5,  6],\n",
       "       [ 7,  8,  9, 10, 11, 12, 13],\n",
       "       [14, 15, 16, 17, 18, 19, 20],\n",
       "       [21, 22, 23, 24, 25, 26, 27],\n",
       "       [28, 29, 30, 31, 32, 33, 34],\n",
       "       [35, 36, 37, 38, 39, 40, 41],\n",
       "       [42, 43, 44, 45, 46, 47, 48]])"
      ]
     },
     "execution_count": 220,
     "metadata": {},
     "output_type": "execute_result"
    }
   ],
   "source": [
    "np.arange(49).reshape(7,7)"
   ]
  },
  {
   "cell_type": "markdown",
   "id": "1a231537-5f6c-48f1-ace8-afb71d0d90a2",
   "metadata": {},
   "source": [
    "#5. Reverse a vector (first element becomes last)\n"
   ]
  },
  {
   "cell_type": "markdown",
   "id": "56d86e35-3ea0-4941-971a-e2253ad73227",
   "metadata": {},
   "source": [
    "#6. Create a 3x3 matrix with values ranging from 0 to 8"
   ]
  },
  {
   "cell_type": "code",
   "execution_count": 246,
   "id": "6c6dab72-6764-42ae-b642-8b928aeb4564",
   "metadata": {},
   "outputs": [
    {
     "data": {
      "text/plain": [
       "array([[0, 1, 2],\n",
       "       [3, 4, 5],\n",
       "       [6, 7, 8]])"
      ]
     },
     "execution_count": 246,
     "metadata": {},
     "output_type": "execute_result"
    }
   ],
   "source": [
    "np.arange(9).reshape((3,3))"
   ]
  },
  {
   "cell_type": "code",
   "execution_count": 207,
   "id": "4bf53a47-f6e3-4d9d-818e-4ea740e80fd9",
   "metadata": {},
   "outputs": [
    {
     "data": {
      "text/plain": [
       "array([[[ 0,  1,  2],\n",
       "        [ 3,  4,  5],\n",
       "        [ 6,  7,  8]],\n",
       "\n",
       "       [[ 9, 10, 11],\n",
       "        [12, 13, 14],\n",
       "        [15, 16, 17]],\n",
       "\n",
       "       [[18, 19, 20],\n",
       "        [21, 22, 23],\n",
       "        [24, 25, 26]]])"
      ]
     },
     "execution_count": 207,
     "metadata": {},
     "output_type": "execute_result"
    }
   ],
   "source": [
    "np.arange(27).reshape((3,3,3))\n"
   ]
  },
  {
   "cell_type": "markdown",
   "id": "97187131-c8b7-43fe-ab3d-d212d7c50af0",
   "metadata": {},
   "source": [
    "#8. Create a 10x10 array with random values and find the minimum and maximum values"
   ]
  },
  {
   "cell_type": "code",
   "execution_count": 238,
   "id": "99537ce8-2269-4b8e-93d7-8fc9528556ea",
   "metadata": {},
   "outputs": [
    {
     "data": {
      "text/plain": [
       "array([[ 0,  1,  2,  3,  4,  5,  6,  7,  8,  9],\n",
       "       [10, 11, 12, 13, 14, 15, 16, 17, 18, 19],\n",
       "       [20, 21, 22, 23, 24, 25, 26, 27, 28, 29],\n",
       "       [30, 31, 32, 33, 34, 35, 36, 37, 38, 39],\n",
       "       [40, 41, 42, 43, 44, 45, 46, 47, 48, 49],\n",
       "       [50, 51, 52, 53, 54, 55, 56, 57, 58, 59],\n",
       "       [60, 61, 62, 63, 64, 65, 66, 67, 68, 69],\n",
       "       [70, 71, 72, 73, 74, 75, 76, 77, 78, 79],\n",
       "       [80, 81, 82, 83, 84, 85, 86, 87, 88, 89],\n",
       "       [90, 91, 92, 93, 94, 95, 96, 97, 98, 99]])"
      ]
     },
     "execution_count": 238,
     "metadata": {},
     "output_type": "execute_result"
    }
   ],
   "source": [
    "np.arange(100).reshape(10,10)"
   ]
  },
  {
   "cell_type": "code",
   "execution_count": 239,
   "id": "16bff588-eeb7-4257-9c38-9de2e3cb6176",
   "metadata": {},
   "outputs": [
    {
     "data": {
      "text/plain": [
       "np.float64(0.0782141624980982)"
      ]
     },
     "execution_count": 239,
     "metadata": {},
     "output_type": "execute_result"
    }
   ],
   "source": [
    "a.min()"
   ]
  },
  {
   "cell_type": "code",
   "execution_count": 240,
   "id": "0a23590f-1417-4dad-9dc9-6c249a8c1355",
   "metadata": {},
   "outputs": [
    {
     "data": {
      "text/plain": [
       "np.float64(0.8729294085380531)"
      ]
     },
     "execution_count": 240,
     "metadata": {},
     "output_type": "execute_result"
    }
   ],
   "source": [
    "a.max()"
   ]
  },
  {
   "cell_type": "markdown",
   "id": "c2e6412b-fbb7-42af-8d98-72bf962fe3ef",
   "metadata": {},
   "source": [
    "\n",
    "#9. Create a random vector of size 30 and find the mean value\n"
   ]
  },
  {
   "cell_type": "code",
   "execution_count": 235,
   "id": "85d06a58-e0fb-422f-adf3-fba58e2cffef",
   "metadata": {},
   "outputs": [
    {
     "data": {
      "text/plain": [
       "array([[17,  7, 21],\n",
       "       [27, 29, 25],\n",
       "       [ 8, 22, 10]], dtype=int32)"
      ]
     },
     "execution_count": 235,
     "metadata": {},
     "output_type": "execute_result"
    }
   ],
   "source": [
    "np.random.randint(30,size=(3,3))"
   ]
  },
  {
   "cell_type": "code",
   "execution_count": 236,
   "id": "8cf73b25-0423-4fa6-b485-22970a9ba15d",
   "metadata": {},
   "outputs": [
    {
     "data": {
      "text/plain": [
       "np.float64(0.4938720263547489)"
      ]
     },
     "execution_count": 236,
     "metadata": {},
     "output_type": "execute_result"
    }
   ],
   "source": [
    "a.mean()"
   ]
  },
  {
   "cell_type": "code",
   "execution_count": null,
   "id": "a0f4b22e-fb7d-44fd-9e06-acc0a1f31cf0",
   "metadata": {},
   "outputs": [],
   "source": [
    "# 10. Multiply a 5x3 matrix by a 3x2 matrix (real matrix product)"
   ]
  },
  {
   "cell_type": "code",
   "execution_count": 212,
   "id": "bb31d9c1-68eb-4496-bd41-4c56c926cd77",
   "metadata": {},
   "outputs": [],
   "source": [
    " a = np.random.random((5,3))\n",
    " b = np.random.random((3,2))"
   ]
  },
  {
   "cell_type": "code",
   "execution_count": 226,
   "id": "42f976fa-7a67-444e-9712-5801ddba1ae6",
   "metadata": {},
   "outputs": [
    {
     "data": {
      "text/plain": [
       "array([[0.07821416, 0.08158056, 0.7300361 ],\n",
       "       [0.1062402 , 0.59453074, 0.60049207],\n",
       "       [0.46743245, 0.35438736, 0.82737986],\n",
       "       [0.4363596 , 0.70379028, 0.43784878],\n",
       "       [0.42295777, 0.87292941, 0.69390106]])"
      ]
     },
     "execution_count": 226,
     "metadata": {},
     "output_type": "execute_result"
    }
   ],
   "source": [
    "a"
   ]
  },
  {
   "cell_type": "code",
   "execution_count": 214,
   "id": "0a9f8a08-b9b6-49a1-b5eb-24ba489260db",
   "metadata": {},
   "outputs": [
    {
     "data": {
      "text/plain": [
       "array([[0.15378841, 0.93148767],\n",
       "       [0.99940981, 0.05971192],\n",
       "       [0.60722746, 0.96860044]])"
      ]
     },
     "execution_count": 214,
     "metadata": {},
     "output_type": "execute_result"
    }
   ],
   "source": [
    "b"
   ]
  },
  {
   "cell_type": "code",
   "execution_count": 215,
   "id": "874928df-3b04-4a2f-9008-f844e506a3ab",
   "metadata": {},
   "outputs": [
    {
     "data": {
      "text/plain": [
       "array([[0.53685881, 0.78484015],\n",
       "       [0.97515364, 0.71609889],\n",
       "       [0.92847168, 1.25796921],\n",
       "       [1.03635577, 0.87258878],\n",
       "       [1.358816  , 1.11821711]])"
      ]
     },
     "execution_count": 215,
     "metadata": {},
     "output_type": "execute_result"
    }
   ],
   "source": [
    "np.dot(a,b)"
   ]
  },
  {
   "cell_type": "code",
   "execution_count": null,
   "id": "6acf26f2-db4c-4ed1-9ea7-4d70b745f4e4",
   "metadata": {},
   "outputs": [],
   "source": []
  },
  {
   "cell_type": "code",
   "execution_count": null,
   "id": "680e10dc-6973-4629-976e-6b4a19be8e76",
   "metadata": {},
   "outputs": [],
   "source": []
  },
  {
   "cell_type": "code",
   "execution_count": null,
   "id": "3a142cf7-1889-48d8-bc1c-31d43289243a",
   "metadata": {},
   "outputs": [],
   "source": []
  },
  {
   "cell_type": "code",
   "execution_count": null,
   "id": "5ffdc7ee-1d76-453e-825e-cac697114838",
   "metadata": {},
   "outputs": [],
   "source": []
  },
  {
   "cell_type": "code",
   "execution_count": null,
   "id": "ca3ddbda-6e3e-41a5-bd12-065705de1253",
   "metadata": {},
   "outputs": [],
   "source": []
  },
  {
   "cell_type": "code",
   "execution_count": null,
   "id": "9d2e8f93-082d-4c85-9601-9763c022c44b",
   "metadata": {},
   "outputs": [],
   "source": []
  }
 ],
 "metadata": {
  "kernelspec": {
   "display_name": "Python 3 (ipykernel)",
   "language": "python",
   "name": "python3"
  },
  "language_info": {
   "codemirror_mode": {
    "name": "ipython",
    "version": 3
   },
   "file_extension": ".py",
   "mimetype": "text/x-python",
   "name": "python",
   "nbconvert_exporter": "python",
   "pygments_lexer": "ipython3",
   "version": "3.13.5"
  }
 },
 "nbformat": 4,
 "nbformat_minor": 5
}
