{
 "cells": [
  {
   "cell_type": "code",
   "execution_count": 2034,
   "id": "38b844de-9248-4282-a775-e6b3849fb2d0",
   "metadata": {},
   "outputs": [
    {
     "data": {
      "text/plain": [
       "'Hello'"
      ]
     },
     "execution_count": 2034,
     "metadata": {},
     "output_type": "execute_result"
    }
   ],
   "source": [
    "\"Hello\""
   ]
  },
  {
   "cell_type": "code",
   "execution_count": 2035,
   "id": "f4ca66b0-e1e2-4dab-ae72-05739f8f785b",
   "metadata": {},
   "outputs": [],
   "source": [
    "import numpy as np"
   ]
  },
  {
   "cell_type": "code",
   "execution_count": 2036,
   "id": "fa8eec5e-99fd-4054-bc2d-f43b4750e62e",
   "metadata": {},
   "outputs": [],
   "source": [
    "l = [1, 2, 3, 4, 5, 6]"
   ]
  },
  {
   "cell_type": "code",
   "execution_count": 2037,
   "id": "c28edaac-05c4-40ac-9bfc-872f3c5492a3",
   "metadata": {},
   "outputs": [
    {
     "data": {
      "text/plain": [
       "[1, 2, 3, 4, 5, 6, 1, 2, 3, 4, 5, 6]"
      ]
     },
     "execution_count": 2037,
     "metadata": {},
     "output_type": "execute_result"
    }
   ],
   "source": [
    "l*2"
   ]
  },
  {
   "cell_type": "code",
   "execution_count": 2038,
   "id": "a412b496-dc4a-46bb-9d82-ecfb289765ec",
   "metadata": {},
   "outputs": [
    {
     "data": {
      "text/plain": [
       "[1, 2, 3, 4, 5, 6]"
      ]
     },
     "execution_count": 2038,
     "metadata": {},
     "output_type": "execute_result"
    }
   ],
   "source": [
    "l"
   ]
  },
  {
   "cell_type": "code",
   "execution_count": 2039,
   "id": "d9a72443-4b3f-4b1c-8948-e32269037332",
   "metadata": {},
   "outputs": [
    {
     "data": {
      "text/plain": [
       "list"
      ]
     },
     "execution_count": 2039,
     "metadata": {},
     "output_type": "execute_result"
    }
   ],
   "source": [
    "type(l)"
   ]
  },
  {
   "cell_type": "code",
   "execution_count": 2040,
   "id": "24eed4b7-5912-4904-a448-5fa3046cfc8d",
   "metadata": {},
   "outputs": [],
   "source": [
    "a1 = np.array(l)"
   ]
  },
  {
   "cell_type": "code",
   "execution_count": 2041,
   "id": "16a79af5-f4ff-42a8-b4eb-231dff06eaee",
   "metadata": {},
   "outputs": [
    {
     "data": {
      "text/plain": [
       "array([1, 2, 3, 4, 5, 6])"
      ]
     },
     "execution_count": 2041,
     "metadata": {},
     "output_type": "execute_result"
    }
   ],
   "source": [
    "a1"
   ]
  },
  {
   "cell_type": "code",
   "execution_count": 2042,
   "id": "9c6cea9b-d180-4e1b-9327-5d41aabf74d9",
   "metadata": {},
   "outputs": [
    {
     "data": {
      "text/plain": [
       "numpy.ndarray"
      ]
     },
     "execution_count": 2042,
     "metadata": {},
     "output_type": "execute_result"
    }
   ],
   "source": [
    "type(a1)"
   ]
  },
  {
   "cell_type": "code",
   "execution_count": 2043,
   "id": "b5bced08-5ea7-4e48-9cd9-ee69c2acc65b",
   "metadata": {},
   "outputs": [
    {
     "data": {
      "text/plain": [
       "1"
      ]
     },
     "execution_count": 2043,
     "metadata": {},
     "output_type": "execute_result"
    }
   ],
   "source": [
    "a1.ndim"
   ]
  },
  {
   "cell_type": "code",
   "execution_count": 2044,
   "id": "245b3891-4386-42e9-89eb-3183e083d525",
   "metadata": {},
   "outputs": [
    {
     "data": {
      "text/plain": [
       "(6,)"
      ]
     },
     "execution_count": 2044,
     "metadata": {},
     "output_type": "execute_result"
    }
   ],
   "source": [
    "a1.shape"
   ]
  },
  {
   "cell_type": "code",
   "execution_count": 2045,
   "id": "2d2f55a4-f26a-40a6-baaf-76fc3e634680",
   "metadata": {},
   "outputs": [],
   "source": [
    "a = np.array([[1, 2, 3],\n",
    "              [4, 5, 6]])"
   ]
  },
  {
   "cell_type": "code",
   "execution_count": 2046,
   "id": "2515ab6c-4b9a-4090-ac60-eeb7c0df48cf",
   "metadata": {},
   "outputs": [
    {
     "data": {
      "text/plain": [
       "array([[1, 2, 3],\n",
       "       [4, 5, 6]])"
      ]
     },
     "execution_count": 2046,
     "metadata": {},
     "output_type": "execute_result"
    }
   ],
   "source": [
    "a"
   ]
  },
  {
   "cell_type": "code",
   "execution_count": 2047,
   "id": "1fac99b6-6504-4471-b5b9-47309bddc790",
   "metadata": {},
   "outputs": [
    {
     "data": {
      "text/plain": [
       "2"
      ]
     },
     "execution_count": 2047,
     "metadata": {},
     "output_type": "execute_result"
    }
   ],
   "source": [
    "a.ndim"
   ]
  },
  {
   "cell_type": "code",
   "execution_count": 2048,
   "id": "77fdb745-6163-4343-9e91-ddbed6261943",
   "metadata": {},
   "outputs": [
    {
     "data": {
      "text/plain": [
       "(2, 3)"
      ]
     },
     "execution_count": 2048,
     "metadata": {},
     "output_type": "execute_result"
    }
   ],
   "source": [
    "a.shape"
   ]
  },
  {
   "cell_type": "code",
   "execution_count": 2049,
   "id": "6aaeee3a-b46d-4215-b91d-d6fb7f16377f",
   "metadata": {},
   "outputs": [],
   "source": [
    "b = np.array([[[1, 2, 3,8],\n",
    "              [4, 5, 6, 9]],\n",
    "               [[1, 2, 3,8],\n",
    "              [4, 5, 6, 9]]])"
   ]
  },
  {
   "cell_type": "code",
   "execution_count": 2050,
   "id": "94579170-7267-45c7-8d92-22a24b970c77",
   "metadata": {},
   "outputs": [
    {
     "data": {
      "text/plain": [
       "array([[[1, 2, 3, 8],\n",
       "        [4, 5, 6, 9]],\n",
       "\n",
       "       [[1, 2, 3, 8],\n",
       "        [4, 5, 6, 9]]])"
      ]
     },
     "execution_count": 2050,
     "metadata": {},
     "output_type": "execute_result"
    }
   ],
   "source": [
    "b"
   ]
  },
  {
   "cell_type": "code",
   "execution_count": 2051,
   "id": "b25011b6-f5b5-43db-aec4-cac4fdf53e3a",
   "metadata": {},
   "outputs": [
    {
     "data": {
      "text/plain": [
       "3"
      ]
     },
     "execution_count": 2051,
     "metadata": {},
     "output_type": "execute_result"
    }
   ],
   "source": [
    "b.ndim"
   ]
  },
  {
   "cell_type": "code",
   "execution_count": 2052,
   "id": "3d90c281-3f8b-47c8-a6cb-cfa9f2ab8758",
   "metadata": {},
   "outputs": [
    {
     "data": {
      "text/plain": [
       "(2, 2, 4)"
      ]
     },
     "execution_count": 2052,
     "metadata": {},
     "output_type": "execute_result"
    }
   ],
   "source": [
    "b.shape"
   ]
  },
  {
   "cell_type": "code",
   "execution_count": 2053,
   "id": "ac074f4f-c1f3-4344-a719-db771ffb768b",
   "metadata": {},
   "outputs": [
    {
     "data": {
      "text/plain": [
       "dtype('int64')"
      ]
     },
     "execution_count": 2053,
     "metadata": {},
     "output_type": "execute_result"
    }
   ],
   "source": [
    "b.dtype"
   ]
  },
  {
   "cell_type": "code",
   "execution_count": 2054,
   "id": "c4d32cf0-e19d-4cf1-9d52-bbd4cd07f611",
   "metadata": {},
   "outputs": [],
   "source": [
    "a = np.ones(5)"
   ]
  },
  {
   "cell_type": "code",
   "execution_count": 2055,
   "id": "3e9b8390-bb8c-4f11-9b15-eb7eb6399784",
   "metadata": {},
   "outputs": [
    {
     "data": {
      "text/plain": [
       "array([1., 1., 1., 1., 1.])"
      ]
     },
     "execution_count": 2055,
     "metadata": {},
     "output_type": "execute_result"
    }
   ],
   "source": [
    "a"
   ]
  },
  {
   "cell_type": "code",
   "execution_count": 2056,
   "id": "77ca3e4e-a032-4a61-ab67-5322705d555d",
   "metadata": {},
   "outputs": [
    {
     "data": {
      "text/plain": [
       "1"
      ]
     },
     "execution_count": 2056,
     "metadata": {},
     "output_type": "execute_result"
    }
   ],
   "source": [
    "a.ndim"
   ]
  },
  {
   "cell_type": "code",
   "execution_count": 2057,
   "id": "4988feb7-c014-45bb-b452-750432a68d66",
   "metadata": {},
   "outputs": [
    {
     "data": {
      "text/plain": [
       "dtype('float64')"
      ]
     },
     "execution_count": 2057,
     "metadata": {},
     "output_type": "execute_result"
    }
   ],
   "source": [
    "a.dtype"
   ]
  },
  {
   "cell_type": "code",
   "execution_count": 2058,
   "id": "d7336f1b-f9ac-4772-badb-b779717f2290",
   "metadata": {},
   "outputs": [],
   "source": [
    "a = np.ones(5,dtype='int')"
   ]
  },
  {
   "cell_type": "code",
   "execution_count": 2059,
   "id": "8ba2c78b-f162-44b5-bcf7-e463987f14e0",
   "metadata": {},
   "outputs": [
    {
     "data": {
      "text/plain": [
       "array([1, 1, 1, 1, 1])"
      ]
     },
     "execution_count": 2059,
     "metadata": {},
     "output_type": "execute_result"
    }
   ],
   "source": [
    "a"
   ]
  },
  {
   "cell_type": "code",
   "execution_count": 2060,
   "id": "6919b838-2dad-425f-a61f-24ffdf4dbf7b",
   "metadata": {},
   "outputs": [],
   "source": [
    "a = np.ones(5,dtype='str')"
   ]
  },
  {
   "cell_type": "code",
   "execution_count": 2061,
   "id": "fac64345-537a-48bc-ac95-7a9dab3bee9f",
   "metadata": {},
   "outputs": [
    {
     "data": {
      "text/plain": [
       "array(['1', '1', '1', '1', '1'], dtype='<U1')"
      ]
     },
     "execution_count": 2061,
     "metadata": {},
     "output_type": "execute_result"
    }
   ],
   "source": [
    "a"
   ]
  },
  {
   "cell_type": "code",
   "execution_count": 2062,
   "id": "0915c6d1-1e41-4f3d-aaf0-03a28bd1012e",
   "metadata": {},
   "outputs": [],
   "source": [
    "a = np.ones(5,dtype='object')"
   ]
  },
  {
   "cell_type": "code",
   "execution_count": 2063,
   "id": "b7b68d61-9623-451f-ba93-490a9814ac2c",
   "metadata": {},
   "outputs": [
    {
     "data": {
      "text/plain": [
       "array([1, 1, 1, 1, 1], dtype=object)"
      ]
     },
     "execution_count": 2063,
     "metadata": {},
     "output_type": "execute_result"
    }
   ],
   "source": [
    "a"
   ]
  },
  {
   "cell_type": "code",
   "execution_count": 2064,
   "id": "bf667279-0a2a-4fde-9733-8d0fb23be7c7",
   "metadata": {},
   "outputs": [],
   "source": [
    "a = np.ones(5,dtype='int')"
   ]
  },
  {
   "cell_type": "code",
   "execution_count": 2065,
   "id": "f06ceded-7bb2-463b-9a6f-a377ce70de2a",
   "metadata": {},
   "outputs": [
    {
     "data": {
      "text/plain": [
       "array([1, 1, 1, 1, 1])"
      ]
     },
     "execution_count": 2065,
     "metadata": {},
     "output_type": "execute_result"
    }
   ],
   "source": [
    "a"
   ]
  },
  {
   "cell_type": "code",
   "execution_count": 2066,
   "id": "10cfb400-79d3-483f-9a90-8733c5fd04dd",
   "metadata": {},
   "outputs": [
    {
     "data": {
      "text/plain": [
       "array([1, 1, 1, 1, 1])"
      ]
     },
     "execution_count": 2066,
     "metadata": {},
     "output_type": "execute_result"
    }
   ],
   "source": [
    "a"
   ]
  },
  {
   "cell_type": "code",
   "execution_count": 2067,
   "id": "eac1c12d-453f-4e80-8d1e-6a0ed654f2de",
   "metadata": {},
   "outputs": [],
   "source": [
    "a = np.ones((3,5))"
   ]
  },
  {
   "cell_type": "code",
   "execution_count": 2068,
   "id": "d605c1d8-50e9-4b65-843b-1b5ac77deedb",
   "metadata": {},
   "outputs": [
    {
     "data": {
      "text/plain": [
       "array([[1., 1., 1., 1., 1.],\n",
       "       [1., 1., 1., 1., 1.],\n",
       "       [1., 1., 1., 1., 1.]])"
      ]
     },
     "execution_count": 2068,
     "metadata": {},
     "output_type": "execute_result"
    }
   ],
   "source": [
    "a"
   ]
  },
  {
   "cell_type": "code",
   "execution_count": 2069,
   "id": "759fbc6d-6265-4b2a-b86c-fdc0f21ccacf",
   "metadata": {},
   "outputs": [
    {
     "data": {
      "text/plain": [
       "2"
      ]
     },
     "execution_count": 2069,
     "metadata": {},
     "output_type": "execute_result"
    }
   ],
   "source": [
    "a.ndim"
   ]
  },
  {
   "cell_type": "code",
   "execution_count": 2070,
   "id": "0d294d82-f7ec-46ac-89fb-29fb839120ac",
   "metadata": {},
   "outputs": [
    {
     "data": {
      "text/plain": [
       "dtype('float64')"
      ]
     },
     "execution_count": 2070,
     "metadata": {},
     "output_type": "execute_result"
    }
   ],
   "source": [
    "a.dtype"
   ]
  },
  {
   "cell_type": "code",
   "execution_count": 2071,
   "id": "3954412a-0086-4ab5-98ec-930ccbf86e1f",
   "metadata": {},
   "outputs": [],
   "source": [
    "a = np.ones((2,3,5))"
   ]
  },
  {
   "cell_type": "code",
   "execution_count": 2072,
   "id": "5de69a4a-5d03-4bb8-a3ea-c947900292d9",
   "metadata": {},
   "outputs": [
    {
     "data": {
      "text/plain": [
       "array([[[1., 1., 1., 1., 1.],\n",
       "        [1., 1., 1., 1., 1.],\n",
       "        [1., 1., 1., 1., 1.]],\n",
       "\n",
       "       [[1., 1., 1., 1., 1.],\n",
       "        [1., 1., 1., 1., 1.],\n",
       "        [1., 1., 1., 1., 1.]]])"
      ]
     },
     "execution_count": 2072,
     "metadata": {},
     "output_type": "execute_result"
    }
   ],
   "source": [
    "a"
   ]
  },
  {
   "cell_type": "code",
   "execution_count": 2073,
   "id": "89b5fdb3-9cd6-4be4-95c9-7ed0081bd9c7",
   "metadata": {},
   "outputs": [
    {
     "data": {
      "text/plain": [
       "3"
      ]
     },
     "execution_count": 2073,
     "metadata": {},
     "output_type": "execute_result"
    }
   ],
   "source": [
    "a.ndim"
   ]
  },
  {
   "cell_type": "code",
   "execution_count": 2074,
   "id": "396c3d5f-583d-4ef1-a81b-8d225f3e1776",
   "metadata": {},
   "outputs": [],
   "source": [
    "a = np.ones((2,3,5),dtype='bool')"
   ]
  },
  {
   "cell_type": "code",
   "execution_count": 2075,
   "id": "ce51a052-d981-48f5-94ee-23770af19232",
   "metadata": {},
   "outputs": [
    {
     "data": {
      "text/plain": [
       "array([[[ True,  True,  True,  True,  True],\n",
       "        [ True,  True,  True,  True,  True],\n",
       "        [ True,  True,  True,  True,  True]],\n",
       "\n",
       "       [[ True,  True,  True,  True,  True],\n",
       "        [ True,  True,  True,  True,  True],\n",
       "        [ True,  True,  True,  True,  True]]])"
      ]
     },
     "execution_count": 2075,
     "metadata": {},
     "output_type": "execute_result"
    }
   ],
   "source": [
    "a"
   ]
  },
  {
   "cell_type": "code",
   "execution_count": 2076,
   "id": "66ba6406-44f7-40e7-9f87-0faafc1f8831",
   "metadata": {},
   "outputs": [
    {
     "data": {
      "text/plain": [
       "3"
      ]
     },
     "execution_count": 2076,
     "metadata": {},
     "output_type": "execute_result"
    }
   ],
   "source": [
    "a.ndim"
   ]
  },
  {
   "cell_type": "code",
   "execution_count": 2077,
   "id": "1ae75fcc-9ac6-4eeb-8a6b-82cf7a27ce00",
   "metadata": {},
   "outputs": [],
   "source": [
    "b = np.zeros(5)"
   ]
  },
  {
   "cell_type": "code",
   "execution_count": 2078,
   "id": "aa94ccf9-87d5-40c0-adf4-74da733f421e",
   "metadata": {},
   "outputs": [
    {
     "data": {
      "text/plain": [
       "array([0., 0., 0., 0., 0.])"
      ]
     },
     "execution_count": 2078,
     "metadata": {},
     "output_type": "execute_result"
    }
   ],
   "source": [
    "b"
   ]
  },
  {
   "cell_type": "code",
   "execution_count": 2079,
   "id": "b950c4a6-6b51-4c24-ad59-d23f2b13003a",
   "metadata": {},
   "outputs": [
    {
     "data": {
      "text/plain": [
       "1"
      ]
     },
     "execution_count": 2079,
     "metadata": {},
     "output_type": "execute_result"
    }
   ],
   "source": [
    "b.ndim"
   ]
  },
  {
   "cell_type": "code",
   "execution_count": 2080,
   "id": "921b1bed-5dbd-4543-b164-e512a5b5280c",
   "metadata": {},
   "outputs": [
    {
     "data": {
      "text/plain": [
       "dtype('float64')"
      ]
     },
     "execution_count": 2080,
     "metadata": {},
     "output_type": "execute_result"
    }
   ],
   "source": [
    "b.dtype"
   ]
  },
  {
   "cell_type": "code",
   "execution_count": 2081,
   "id": "fdc2e209-b5d3-43b5-90a5-9202aec5c0e2",
   "metadata": {},
   "outputs": [],
   "source": [
    "b = np.zeros((3,4))"
   ]
  },
  {
   "cell_type": "code",
   "execution_count": 2082,
   "id": "86bdb834-57cd-4d00-a252-1ae6c8d28d54",
   "metadata": {},
   "outputs": [
    {
     "data": {
      "text/plain": [
       "array([[0., 0., 0., 0.],\n",
       "       [0., 0., 0., 0.],\n",
       "       [0., 0., 0., 0.]])"
      ]
     },
     "execution_count": 2082,
     "metadata": {},
     "output_type": "execute_result"
    }
   ],
   "source": [
    "b"
   ]
  },
  {
   "cell_type": "code",
   "execution_count": 2083,
   "id": "d4d8b634-52da-47ce-8925-9743252d7258",
   "metadata": {},
   "outputs": [
    {
     "data": {
      "text/plain": [
       "2"
      ]
     },
     "execution_count": 2083,
     "metadata": {},
     "output_type": "execute_result"
    }
   ],
   "source": [
    "b.ndim"
   ]
  },
  {
   "cell_type": "code",
   "execution_count": 2084,
   "id": "2b9dabcc-2cf3-412d-87bc-88b953368a14",
   "metadata": {},
   "outputs": [
    {
     "data": {
      "text/plain": [
       "array([0])"
      ]
     },
     "execution_count": 2084,
     "metadata": {},
     "output_type": "execute_result"
    }
   ],
   "source": [
    "np.arange(1)"
   ]
  },
  {
   "cell_type": "code",
   "execution_count": 2085,
   "id": "44a15cf5-361b-4905-8352-cd4eaec0477b",
   "metadata": {},
   "outputs": [
    {
     "data": {
      "text/plain": [
       "array([0, 1, 2, 3, 4, 5, 6, 7, 8, 9])"
      ]
     },
     "execution_count": 2085,
     "metadata": {},
     "output_type": "execute_result"
    }
   ],
   "source": [
    "np.arange(10)"
   ]
  },
  {
   "cell_type": "code",
   "execution_count": 2086,
   "id": "fefeaa46-c0e0-4a45-bdb8-e4dcae9d00ca",
   "metadata": {},
   "outputs": [
    {
     "data": {
      "text/plain": [
       "array([1, 2, 3, 4, 5, 6, 7, 8, 9])"
      ]
     },
     "execution_count": 2086,
     "metadata": {},
     "output_type": "execute_result"
    }
   ],
   "source": [
    "m = np.arange(1,10)\n",
    "m"
   ]
  },
  {
   "cell_type": "code",
   "execution_count": 2087,
   "id": "3877fcc6-8afb-485e-8b35-de8a1535fc55",
   "metadata": {},
   "outputs": [
    {
     "data": {
      "text/plain": [
       "1"
      ]
     },
     "execution_count": 2087,
     "metadata": {},
     "output_type": "execute_result"
    }
   ],
   "source": [
    "m.ndim"
   ]
  },
  {
   "cell_type": "code",
   "execution_count": 2088,
   "id": "ad8946e0-2754-4ae1-b662-2c22dde97338",
   "metadata": {},
   "outputs": [
    {
     "data": {
      "text/plain": [
       "array([1, 3, 5, 7, 9])"
      ]
     },
     "execution_count": 2088,
     "metadata": {},
     "output_type": "execute_result"
    }
   ],
   "source": [
    "m = np.arange(1,10,2)\n",
    "m"
   ]
  },
  {
   "cell_type": "code",
   "execution_count": 2089,
   "id": "c46e1489-8562-4d31-ac3e-dbeb28a922f8",
   "metadata": {},
   "outputs": [
    {
     "data": {
      "text/plain": [
       "array([  1,   2,   3,   4,   5,   6,   7,   8,   9,  10,  11,  12,  13,\n",
       "        14,  15,  16,  17,  18,  19,  20,  21,  22,  23,  24,  25,  26,\n",
       "        27,  28,  29,  30,  31,  32,  33,  34,  35,  36,  37,  38,  39,\n",
       "        40,  41,  42,  43,  44,  45,  46,  47,  48,  49,  50,  51,  52,\n",
       "        53,  54,  55,  56,  57,  58,  59,  60,  61,  62,  63,  64,  65,\n",
       "        66,  67,  68,  69,  70,  71,  72,  73,  74,  75,  76,  77,  78,\n",
       "        79,  80,  81,  82,  83,  84,  85,  86,  87,  88,  89,  90,  91,\n",
       "        92,  93,  94,  95,  96,  97,  98,  99, 100])"
      ]
     },
     "execution_count": 2089,
     "metadata": {},
     "output_type": "execute_result"
    }
   ],
   "source": [
    "m = np.arange(1,101)\n",
    "m"
   ]
  },
  {
   "cell_type": "code",
   "execution_count": 2090,
   "id": "8e4590e8-e96a-47c8-99fc-7ec26dbb7940",
   "metadata": {},
   "outputs": [
    {
     "data": {
      "text/plain": [
       "1"
      ]
     },
     "execution_count": 2090,
     "metadata": {},
     "output_type": "execute_result"
    }
   ],
   "source": [
    "m.ndim"
   ]
  },
  {
   "cell_type": "code",
   "execution_count": 2091,
   "id": "6616ec88-ddaa-4c39-a690-9e4ab5b76863",
   "metadata": {},
   "outputs": [
    {
     "data": {
      "text/plain": [
       "array([[  1,   2,   3,   4,   5,   6,   7,   8,   9,  10,  11,  12,  13,\n",
       "         14,  15,  16,  17,  18,  19,  20,  21,  22,  23,  24,  25,  26,\n",
       "         27,  28,  29,  30,  31,  32,  33,  34,  35,  36,  37,  38,  39,\n",
       "         40,  41,  42,  43,  44,  45,  46,  47,  48,  49,  50],\n",
       "       [ 51,  52,  53,  54,  55,  56,  57,  58,  59,  60,  61,  62,  63,\n",
       "         64,  65,  66,  67,  68,  69,  70,  71,  72,  73,  74,  75,  76,\n",
       "         77,  78,  79,  80,  81,  82,  83,  84,  85,  86,  87,  88,  89,\n",
       "         90,  91,  92,  93,  94,  95,  96,  97,  98,  99, 100]])"
      ]
     },
     "execution_count": 2091,
     "metadata": {},
     "output_type": "execute_result"
    }
   ],
   "source": [
    "m.reshape(2,50)"
   ]
  },
  {
   "cell_type": "code",
   "execution_count": 2092,
   "id": "5422bf8e-b04a-47e1-9865-5bf02535eda2",
   "metadata": {},
   "outputs": [
    {
     "data": {
      "text/plain": [
       "2"
      ]
     },
     "execution_count": 2092,
     "metadata": {},
     "output_type": "execute_result"
    }
   ],
   "source": [
    "(m.reshape((2,50))).ndim"
   ]
  },
  {
   "cell_type": "code",
   "execution_count": 2093,
   "id": "c99482c7-083f-4a44-87a5-af11dc75b86b",
   "metadata": {},
   "outputs": [
    {
     "data": {
      "text/plain": [
       "100"
      ]
     },
     "execution_count": 2093,
     "metadata": {},
     "output_type": "execute_result"
    }
   ],
   "source": [
    "len(m)"
   ]
  },
  {
   "cell_type": "code",
   "execution_count": 2094,
   "id": "b468eb84-87dc-452b-b10d-545567e389c0",
   "metadata": {},
   "outputs": [
    {
     "data": {
      "text/plain": [
       "array([[  1,   2,   3,   4,   5,   6,   7,   8,   9,  10,  11,  12,  13,\n",
       "         14,  15,  16,  17,  18,  19,  20,  21,  22,  23,  24,  25,  26,\n",
       "         27,  28,  29,  30,  31,  32,  33,  34,  35,  36,  37,  38,  39,\n",
       "         40,  41,  42,  43,  44,  45,  46,  47,  48,  49,  50,  51,  52,\n",
       "         53,  54,  55,  56,  57,  58,  59,  60,  61,  62,  63,  64,  65,\n",
       "         66,  67,  68,  69,  70,  71,  72,  73,  74,  75,  76,  77,  78,\n",
       "         79,  80,  81,  82,  83,  84,  85,  86,  87,  88,  89,  90,  91,\n",
       "         92,  93,  94,  95,  96,  97,  98,  99, 100]])"
      ]
     },
     "execution_count": 2094,
     "metadata": {},
     "output_type": "execute_result"
    }
   ],
   "source": [
    "m.reshape((1,100))"
   ]
  },
  {
   "cell_type": "code",
   "execution_count": 2095,
   "id": "582790a7-7778-47ab-9dc4-04f862884152",
   "metadata": {},
   "outputs": [
    {
     "data": {
      "text/plain": [
       "array([[[  1,   2,   3,   4],\n",
       "        [  5,   6,   7,   8],\n",
       "        [  9,  10,  11,  12],\n",
       "        [ 13,  14,  15,  16],\n",
       "        [ 17,  18,  19,  20]],\n",
       "\n",
       "       [[ 21,  22,  23,  24],\n",
       "        [ 25,  26,  27,  28],\n",
       "        [ 29,  30,  31,  32],\n",
       "        [ 33,  34,  35,  36],\n",
       "        [ 37,  38,  39,  40]],\n",
       "\n",
       "       [[ 41,  42,  43,  44],\n",
       "        [ 45,  46,  47,  48],\n",
       "        [ 49,  50,  51,  52],\n",
       "        [ 53,  54,  55,  56],\n",
       "        [ 57,  58,  59,  60]],\n",
       "\n",
       "       [[ 61,  62,  63,  64],\n",
       "        [ 65,  66,  67,  68],\n",
       "        [ 69,  70,  71,  72],\n",
       "        [ 73,  74,  75,  76],\n",
       "        [ 77,  78,  79,  80]],\n",
       "\n",
       "       [[ 81,  82,  83,  84],\n",
       "        [ 85,  86,  87,  88],\n",
       "        [ 89,  90,  91,  92],\n",
       "        [ 93,  94,  95,  96],\n",
       "        [ 97,  98,  99, 100]]])"
      ]
     },
     "execution_count": 2095,
     "metadata": {},
     "output_type": "execute_result"
    }
   ],
   "source": [
    "m.reshape((5,5,4))"
   ]
  },
  {
   "cell_type": "code",
   "execution_count": 2096,
   "id": "9bfa22c1-7968-4ea3-911c-88944d61282f",
   "metadata": {},
   "outputs": [],
   "source": [
    "b = np.arange(1,10).reshape(3,3)"
   ]
  },
  {
   "cell_type": "code",
   "execution_count": 2097,
   "id": "14df16e8-279c-4cfc-8730-044ee69c7a57",
   "metadata": {},
   "outputs": [
    {
     "data": {
      "text/plain": [
       "array([[1, 2, 3],\n",
       "       [4, 5, 6],\n",
       "       [7, 8, 9]])"
      ]
     },
     "execution_count": 2097,
     "metadata": {},
     "output_type": "execute_result"
    }
   ],
   "source": [
    "b"
   ]
  },
  {
   "cell_type": "code",
   "execution_count": 2098,
   "id": "991a5563-8d7a-45bf-91c6-42db2dd8d734",
   "metadata": {},
   "outputs": [
    {
     "data": {
      "text/plain": [
       "2"
      ]
     },
     "execution_count": 2098,
     "metadata": {},
     "output_type": "execute_result"
    }
   ],
   "source": [
    "b.ndim"
   ]
  },
  {
   "cell_type": "code",
   "execution_count": null,
   "id": "3a4240d0-45c5-4e44-b924-a349d678a0e5",
   "metadata": {},
   "outputs": [],
   "source": []
  },
  {
   "cell_type": "code",
   "execution_count": null,
   "id": "262f2bdf-4980-4005-a44e-f06b24b2ab3b",
   "metadata": {},
   "outputs": [],
   "source": []
  },
  {
   "cell_type": "code",
   "execution_count": 2099,
   "id": "27490cc5-d28d-49cb-9eae-d09aede25490",
   "metadata": {},
   "outputs": [],
   "source": [
    "b = np.arange(1,10).reshape(1,3,3)"
   ]
  },
  {
   "cell_type": "code",
   "execution_count": 2100,
   "id": "792b822b-06b4-45a7-b258-f8827b433d86",
   "metadata": {},
   "outputs": [
    {
     "data": {
      "text/plain": [
       "array([[[1, 2, 3],\n",
       "        [4, 5, 6],\n",
       "        [7, 8, 9]]])"
      ]
     },
     "execution_count": 2100,
     "metadata": {},
     "output_type": "execute_result"
    }
   ],
   "source": [
    "b"
   ]
  },
  {
   "cell_type": "code",
   "execution_count": 2101,
   "id": "b8982f81-68fa-4d1d-b4d6-4a7562c447c8",
   "metadata": {},
   "outputs": [
    {
     "data": {
      "text/plain": [
       "array([  1.        ,   3.02040816,   5.04081633,   7.06122449,\n",
       "         9.08163265,  11.10204082,  13.12244898,  15.14285714,\n",
       "        17.16326531,  19.18367347,  21.20408163,  23.2244898 ,\n",
       "        25.24489796,  27.26530612,  29.28571429,  31.30612245,\n",
       "        33.32653061,  35.34693878,  37.36734694,  39.3877551 ,\n",
       "        41.40816327,  43.42857143,  45.44897959,  47.46938776,\n",
       "        49.48979592,  51.51020408,  53.53061224,  55.55102041,\n",
       "        57.57142857,  59.59183673,  61.6122449 ,  63.63265306,\n",
       "        65.65306122,  67.67346939,  69.69387755,  71.71428571,\n",
       "        73.73469388,  75.75510204,  77.7755102 ,  79.79591837,\n",
       "        81.81632653,  83.83673469,  85.85714286,  87.87755102,\n",
       "        89.89795918,  91.91836735,  93.93877551,  95.95918367,\n",
       "        97.97959184, 100.        ])"
      ]
     },
     "execution_count": 2101,
     "metadata": {},
     "output_type": "execute_result"
    }
   ],
   "source": [
    "np.linspace(1,100)"
   ]
  },
  {
   "cell_type": "code",
   "execution_count": 2102,
   "id": "ebd93ba3-d93e-4385-88d0-5f36c9e98768",
   "metadata": {},
   "outputs": [
    {
     "data": {
      "text/plain": [
       "50"
      ]
     },
     "execution_count": 2102,
     "metadata": {},
     "output_type": "execute_result"
    }
   ],
   "source": [
    "len(np.linspace(1,100))"
   ]
  },
  {
   "cell_type": "code",
   "execution_count": 2103,
   "id": "8d6406ad-2911-46ec-be37-ba7a44a11359",
   "metadata": {},
   "outputs": [
    {
     "data": {
      "text/plain": [
       "array([ 1.  ,  5.95, 10.9 , 15.85, 20.8 , 25.75, 30.7 , 35.65, 40.6 ,\n",
       "       45.55, 50.5 , 55.45, 60.4 , 65.35, 70.3 , 75.25, 80.2 , 85.15,\n",
       "       90.1 , 95.05])"
      ]
     },
     "execution_count": 2103,
     "metadata": {},
     "output_type": "execute_result"
    }
   ],
   "source": [
    "np.linspace(1,100,num=20,endpoint=False)"
   ]
  },
  {
   "cell_type": "code",
   "execution_count": 2104,
   "id": "aac0b405-ccf0-4abf-8d81-3392f82c98e2",
   "metadata": {},
   "outputs": [
    {
     "data": {
      "text/plain": [
       "array([ 1,  5, 10, 15, 20, 25, 30, 35, 40, 45, 50, 55, 60, 65, 70, 75, 80,\n",
       "       85, 90, 95])"
      ]
     },
     "execution_count": 2104,
     "metadata": {},
     "output_type": "execute_result"
    }
   ],
   "source": [
    "np.linspace(1,100,num=20,endpoint=False, dtype='int')"
   ]
  },
  {
   "cell_type": "code",
   "execution_count": 2105,
   "id": "052333e4-b52f-4547-9854-497cbf02fbf7",
   "metadata": {},
   "outputs": [
    {
     "data": {
      "text/plain": [
       "array([ True,  True,  True,  True,  True,  True,  True,  True,  True,\n",
       "        True,  True,  True,  True,  True,  True,  True,  True,  True,\n",
       "        True,  True])"
      ]
     },
     "execution_count": 2105,
     "metadata": {},
     "output_type": "execute_result"
    }
   ],
   "source": [
    "np.linspace(1,100,num=20,endpoint=False, dtype='bool')"
   ]
  },
  {
   "cell_type": "code",
   "execution_count": 2106,
   "id": "8440b9c7-1d5b-4213-a064-506e304e7a9c",
   "metadata": {},
   "outputs": [
    {
     "data": {
      "text/plain": [
       "array([[[1, 2, 3],\n",
       "        [4, 5, 6],\n",
       "        [7, 8, 9]]])"
      ]
     },
     "execution_count": 2106,
     "metadata": {},
     "output_type": "execute_result"
    }
   ],
   "source": [
    "b"
   ]
  },
  {
   "cell_type": "code",
   "execution_count": 2107,
   "id": "c81649e1-defa-4114-84e1-eef1eaf3d316",
   "metadata": {},
   "outputs": [
    {
     "data": {
      "text/plain": [
       "3"
      ]
     },
     "execution_count": 2107,
     "metadata": {},
     "output_type": "execute_result"
    }
   ],
   "source": [
    "b.ndim"
   ]
  },
  {
   "cell_type": "code",
   "execution_count": 2108,
   "id": "72c7f9db-b57d-487b-81d8-809f6b6353f6",
   "metadata": {},
   "outputs": [
    {
     "data": {
      "text/plain": [
       "array([1, 2, 3, 4, 5, 6, 7, 8, 9])"
      ]
     },
     "execution_count": 2108,
     "metadata": {},
     "output_type": "execute_result"
    }
   ],
   "source": [
    "b.ravel()"
   ]
  },
  {
   "cell_type": "code",
   "execution_count": 2109,
   "id": "09ffb73a-12fd-417f-a620-3da866db0487",
   "metadata": {},
   "outputs": [
    {
     "data": {
      "text/plain": [
       "array([1, 4, 7, 2, 5, 8, 3, 6, 9])"
      ]
     },
     "execution_count": 2109,
     "metadata": {},
     "output_type": "execute_result"
    }
   ],
   "source": [
    "b.ravel(order= 'F')"
   ]
  },
  {
   "cell_type": "code",
   "execution_count": 2110,
   "id": "cf81b860-c0bd-461a-b4fc-89545db86e70",
   "metadata": {},
   "outputs": [
    {
     "data": {
      "text/plain": [
       "array([1, 2, 3, 4, 5, 6, 7, 8, 9])"
      ]
     },
     "execution_count": 2110,
     "metadata": {},
     "output_type": "execute_result"
    }
   ],
   "source": [
    "b.flatten()"
   ]
  },
  {
   "cell_type": "code",
   "execution_count": 2111,
   "id": "512b1e15-b3cd-41d0-b2b5-16e22013ff01",
   "metadata": {},
   "outputs": [
    {
     "data": {
      "text/plain": [
       "array([1, 4, 7, 2, 5, 8, 3, 6, 9])"
      ]
     },
     "execution_count": 2111,
     "metadata": {},
     "output_type": "execute_result"
    }
   ],
   "source": [
    "b.flatten(order= 'F')"
   ]
  },
  {
   "cell_type": "code",
   "execution_count": 2112,
   "id": "0e74c59a-0450-43c2-be7f-427df1d7a3cb",
   "metadata": {},
   "outputs": [],
   "source": [
    "a = np.arange(1,16).reshape(3,5)"
   ]
  },
  {
   "cell_type": "code",
   "execution_count": 2113,
   "id": "55d33389-34f4-4329-bf57-3497b1738245",
   "metadata": {},
   "outputs": [
    {
     "data": {
      "text/plain": [
       "array([[ 1,  2,  3,  4,  5],\n",
       "       [ 6,  7,  8,  9, 10],\n",
       "       [11, 12, 13, 14, 15]])"
      ]
     },
     "execution_count": 2113,
     "metadata": {},
     "output_type": "execute_result"
    }
   ],
   "source": [
    "a"
   ]
  },
  {
   "cell_type": "code",
   "execution_count": 2114,
   "id": "4111214d-effa-4314-9fec-e1221da45587",
   "metadata": {},
   "outputs": [],
   "source": [
    "a = np.arange(1,16).reshape(1,15)"
   ]
  },
  {
   "cell_type": "code",
   "execution_count": 2115,
   "id": "1bdf858a-cbb7-4f55-bd71-22c1be24b699",
   "metadata": {},
   "outputs": [
    {
     "data": {
      "text/plain": [
       "array([[ 1,  2,  3,  4,  5,  6,  7,  8,  9, 10, 11, 12, 13, 14, 15]])"
      ]
     },
     "execution_count": 2115,
     "metadata": {},
     "output_type": "execute_result"
    }
   ],
   "source": [
    "a"
   ]
  },
  {
   "cell_type": "code",
   "execution_count": 2116,
   "id": "965aba39-c13a-4e40-9a7d-3b8179f8a5cd",
   "metadata": {},
   "outputs": [],
   "source": [
    "a = np.arange(1,16).reshape(15,1)"
   ]
  },
  {
   "cell_type": "code",
   "execution_count": 2117,
   "id": "59642556-7696-4504-9d4c-8783d40d7b6a",
   "metadata": {},
   "outputs": [
    {
     "data": {
      "text/plain": [
       "array([[ 1],\n",
       "       [ 2],\n",
       "       [ 3],\n",
       "       [ 4],\n",
       "       [ 5],\n",
       "       [ 6],\n",
       "       [ 7],\n",
       "       [ 8],\n",
       "       [ 9],\n",
       "       [10],\n",
       "       [11],\n",
       "       [12],\n",
       "       [13],\n",
       "       [14],\n",
       "       [15]])"
      ]
     },
     "execution_count": 2117,
     "metadata": {},
     "output_type": "execute_result"
    }
   ],
   "source": [
    "a"
   ]
  },
  {
   "cell_type": "code",
   "execution_count": 2118,
   "id": "50cae42c-650b-4d5a-a379-c410995402b8",
   "metadata": {},
   "outputs": [
    {
     "data": {
      "text/plain": [
       "array([[ 1],\n",
       "       [ 2],\n",
       "       [ 3],\n",
       "       [ 4],\n",
       "       [ 5],\n",
       "       [ 6],\n",
       "       [ 7],\n",
       "       [ 8],\n",
       "       [ 9],\n",
       "       [10],\n",
       "       [11],\n",
       "       [12],\n",
       "       [13],\n",
       "       [14],\n",
       "       [15]])"
      ]
     },
     "execution_count": 2118,
     "metadata": {},
     "output_type": "execute_result"
    }
   ],
   "source": [
    "a"
   ]
  },
  {
   "cell_type": "code",
   "execution_count": 2119,
   "id": "6e7fbf14-35ed-47bb-ae83-f00dfb52f9ef",
   "metadata": {},
   "outputs": [],
   "source": [
    "a = np.arange(1,16).reshape(3,5)\n"
   ]
  },
  {
   "cell_type": "code",
   "execution_count": 2120,
   "id": "6c85fe72-83a1-4868-a4a6-155e119a01fb",
   "metadata": {},
   "outputs": [
    {
     "data": {
      "text/plain": [
       "array([[ 1,  2,  3,  4,  5],\n",
       "       [ 6,  7,  8,  9, 10],\n",
       "       [11, 12, 13, 14, 15]])"
      ]
     },
     "execution_count": 2120,
     "metadata": {},
     "output_type": "execute_result"
    }
   ],
   "source": [
    "a"
   ]
  },
  {
   "cell_type": "code",
   "execution_count": 2121,
   "id": "0daa44f2-4b11-4f85-b5c0-b238f895efd1",
   "metadata": {},
   "outputs": [
    {
     "data": {
      "text/plain": [
       "array([[ 1,  6, 11],\n",
       "       [ 2,  7, 12],\n",
       "       [ 3,  8, 13],\n",
       "       [ 4,  9, 14],\n",
       "       [ 5, 10, 15]])"
      ]
     },
     "execution_count": 2121,
     "metadata": {},
     "output_type": "execute_result"
    }
   ],
   "source": [
    "np.transpose(a)"
   ]
  },
  {
   "cell_type": "code",
   "execution_count": 2122,
   "id": "fb140614-2e01-4a13-90d9-5bdaae2f9bd9",
   "metadata": {},
   "outputs": [],
   "source": [
    "b = np.arange(1,25).reshape(1,3,8)"
   ]
  },
  {
   "cell_type": "code",
   "execution_count": 2123,
   "id": "4877f122-e6d6-4fdc-a43d-efa16e82177e",
   "metadata": {},
   "outputs": [
    {
     "data": {
      "text/plain": [
       "array([[[ 1,  2,  3,  4,  5,  6,  7,  8],\n",
       "        [ 9, 10, 11, 12, 13, 14, 15, 16],\n",
       "        [17, 18, 19, 20, 21, 22, 23, 24]]])"
      ]
     },
     "execution_count": 2123,
     "metadata": {},
     "output_type": "execute_result"
    }
   ],
   "source": [
    "b"
   ]
  },
  {
   "cell_type": "code",
   "execution_count": 2124,
   "id": "3dc979e5-2bfc-4358-924e-1ff78a6f2287",
   "metadata": {},
   "outputs": [],
   "source": [
    "b = np.arange(1,25).reshape(2,4,3)"
   ]
  },
  {
   "cell_type": "code",
   "execution_count": 2125,
   "id": "2b29d920-b90b-4021-ab74-dac13bf7892c",
   "metadata": {},
   "outputs": [
    {
     "data": {
      "text/plain": [
       "array([[[ 1,  2,  3],\n",
       "        [ 4,  5,  6],\n",
       "        [ 7,  8,  9],\n",
       "        [10, 11, 12]],\n",
       "\n",
       "       [[13, 14, 15],\n",
       "        [16, 17, 18],\n",
       "        [19, 20, 21],\n",
       "        [22, 23, 24]]])"
      ]
     },
     "execution_count": 2125,
     "metadata": {},
     "output_type": "execute_result"
    }
   ],
   "source": [
    "b"
   ]
  },
  {
   "cell_type": "code",
   "execution_count": 2126,
   "id": "ac2e5809-6f00-4138-b6e3-e7889efa3646",
   "metadata": {},
   "outputs": [
    {
     "data": {
      "text/plain": [
       "array([[ 1,  2,  3,  4,  5,  6,  7,  8,  9, 10, 11, 12, 13, 14, 15, 16,\n",
       "        17, 18, 19, 20, 21, 22, 23, 24]])"
      ]
     },
     "execution_count": 2126,
     "metadata": {},
     "output_type": "execute_result"
    }
   ],
   "source": [
    "b.reshape(1,-1)"
   ]
  },
  {
   "cell_type": "code",
   "execution_count": 2127,
   "id": "c64c1091-6dbc-4384-9322-de8e9d0ef3ee",
   "metadata": {},
   "outputs": [
    {
     "data": {
      "text/plain": [
       "array([[ 1],\n",
       "       [ 2],\n",
       "       [ 3],\n",
       "       [ 4],\n",
       "       [ 5],\n",
       "       [ 6],\n",
       "       [ 7],\n",
       "       [ 8],\n",
       "       [ 9],\n",
       "       [10],\n",
       "       [11],\n",
       "       [12],\n",
       "       [13],\n",
       "       [14],\n",
       "       [15],\n",
       "       [16],\n",
       "       [17],\n",
       "       [18],\n",
       "       [19],\n",
       "       [20],\n",
       "       [21],\n",
       "       [22],\n",
       "       [23],\n",
       "       [24]])"
      ]
     },
     "execution_count": 2127,
     "metadata": {},
     "output_type": "execute_result"
    }
   ],
   "source": [
    "b.reshape(-1,1)"
   ]
  },
  {
   "cell_type": "code",
   "execution_count": 2128,
   "id": "748ad49d-0ef7-4d47-818d-edc52ad33937",
   "metadata": {},
   "outputs": [],
   "source": [
    "a = np.arange(1,10).reshape(3,3)\n",
    "b = np.arange(1,10).reshape(3,3)"
   ]
  },
  {
   "cell_type": "code",
   "execution_count": 2129,
   "id": "f6b93fdb-8d7b-4082-b1ae-482990d37bcb",
   "metadata": {},
   "outputs": [
    {
     "data": {
      "text/plain": [
       "array([[1, 2, 3],\n",
       "       [4, 5, 6],\n",
       "       [7, 8, 9]])"
      ]
     },
     "execution_count": 2129,
     "metadata": {},
     "output_type": "execute_result"
    }
   ],
   "source": [
    "a"
   ]
  },
  {
   "cell_type": "code",
   "execution_count": 2130,
   "id": "a0bbd54d-fa4e-4997-be5d-19080d0d344d",
   "metadata": {},
   "outputs": [
    {
     "data": {
      "text/plain": [
       "array([[1, 2, 3],\n",
       "       [4, 5, 6],\n",
       "       [7, 8, 9]])"
      ]
     },
     "execution_count": 2130,
     "metadata": {},
     "output_type": "execute_result"
    }
   ],
   "source": [
    "b"
   ]
  },
  {
   "cell_type": "code",
   "execution_count": 2131,
   "id": "fbd7d1ad-327c-440d-b2fb-1a38ab84a9e6",
   "metadata": {},
   "outputs": [
    {
     "data": {
      "text/plain": [
       "array([[ 2,  4,  6],\n",
       "       [ 8, 10, 12],\n",
       "       [14, 16, 18]])"
      ]
     },
     "execution_count": 2131,
     "metadata": {},
     "output_type": "execute_result"
    }
   ],
   "source": [
    "a+b"
   ]
  },
  {
   "cell_type": "code",
   "execution_count": 2132,
   "id": "037ebbdc-3fb6-40f4-9714-0aaac53d357d",
   "metadata": {},
   "outputs": [
    {
     "data": {
      "text/plain": [
       "array([[0, 0, 0],\n",
       "       [0, 0, 0],\n",
       "       [0, 0, 0]])"
      ]
     },
     "execution_count": 2132,
     "metadata": {},
     "output_type": "execute_result"
    }
   ],
   "source": [
    "a-b"
   ]
  },
  {
   "cell_type": "code",
   "execution_count": 2133,
   "id": "fb7294f5-d092-418e-acd9-f0f317005dd2",
   "metadata": {},
   "outputs": [
    {
     "data": {
      "text/plain": [
       "array([[ 2,  4,  6],\n",
       "       [ 8, 10, 12],\n",
       "       [14, 16, 18]])"
      ]
     },
     "execution_count": 2133,
     "metadata": {},
     "output_type": "execute_result"
    }
   ],
   "source": [
    "a1 = np.add(a,b)\n",
    "a1\n"
   ]
  },
  {
   "cell_type": "code",
   "execution_count": 2134,
   "id": "e844b81e-419b-48a9-a3c4-437533eaac30",
   "metadata": {},
   "outputs": [
    {
     "data": {
      "text/plain": [
       "array([[0, 0, 0],\n",
       "       [0, 0, 0],\n",
       "       [0, 0, 0]])"
      ]
     },
     "execution_count": 2134,
     "metadata": {},
     "output_type": "execute_result"
    }
   ],
   "source": [
    "np.subtract(a, b)"
   ]
  },
  {
   "cell_type": "code",
   "execution_count": 2135,
   "id": "ede8dd21-f79a-4651-acd1-d4be928c7b24",
   "metadata": {},
   "outputs": [
    {
     "data": {
      "text/plain": [
       "array([[1., 1., 1.],\n",
       "       [1., 1., 1.],\n",
       "       [1., 1., 1.]])"
      ]
     },
     "execution_count": 2135,
     "metadata": {},
     "output_type": "execute_result"
    }
   ],
   "source": [
    "np.divide(a,b)"
   ]
  },
  {
   "cell_type": "code",
   "execution_count": 2136,
   "id": "3472febf-e71b-4a8f-86fd-30b1e0e20e65",
   "metadata": {},
   "outputs": [
    {
     "data": {
      "text/plain": [
       "array([[ 1,  4,  9],\n",
       "       [16, 25, 36],\n",
       "       [49, 64, 81]])"
      ]
     },
     "execution_count": 2136,
     "metadata": {},
     "output_type": "execute_result"
    }
   ],
   "source": [
    "np.multiply(a,b)"
   ]
  },
  {
   "cell_type": "code",
   "execution_count": 2137,
   "id": "9d22ba94-d477-4154-863d-e6c59987aa74",
   "metadata": {},
   "outputs": [
    {
     "data": {
      "text/plain": [
       "np.int64(1)"
      ]
     },
     "execution_count": 2137,
     "metadata": {},
     "output_type": "execute_result"
    }
   ],
   "source": [
    "a.min()"
   ]
  },
  {
   "cell_type": "code",
   "execution_count": 2138,
   "id": "35298149-da1b-4343-8ab6-15e9eb3413c6",
   "metadata": {},
   "outputs": [
    {
     "data": {
      "text/plain": [
       "np.int64(9)"
      ]
     },
     "execution_count": 2138,
     "metadata": {},
     "output_type": "execute_result"
    }
   ],
   "source": [
    "a.max()"
   ]
  },
  {
   "cell_type": "code",
   "execution_count": 2139,
   "id": "5d6ea909-9a07-4c89-b44e-3b5c4febf8e9",
   "metadata": {},
   "outputs": [
    {
     "data": {
      "text/plain": [
       "array([1, 2, 3])"
      ]
     },
     "execution_count": 2139,
     "metadata": {},
     "output_type": "execute_result"
    }
   ],
   "source": [
    "a.min(axis=0)"
   ]
  },
  {
   "cell_type": "code",
   "execution_count": 2140,
   "id": "21697d6c-72f9-4c61-9e73-b66a506c4d53",
   "metadata": {},
   "outputs": [
    {
     "data": {
      "text/plain": [
       "array([3, 6, 9])"
      ]
     },
     "execution_count": 2140,
     "metadata": {},
     "output_type": "execute_result"
    }
   ],
   "source": [
    "a.max(axis=1)"
   ]
  },
  {
   "cell_type": "code",
   "execution_count": 2141,
   "id": "227b7b55-7df8-4df2-b982-a34f0b4b2a25",
   "metadata": {},
   "outputs": [
    {
     "data": {
      "text/plain": [
       "array([7, 8, 9])"
      ]
     },
     "execution_count": 2141,
     "metadata": {},
     "output_type": "execute_result"
    }
   ],
   "source": [
    "a.max(axis=0)"
   ]
  },
  {
   "cell_type": "code",
   "execution_count": 2142,
   "id": "3eaeb47c-1908-4328-97e1-cc4905b72014",
   "metadata": {},
   "outputs": [
    {
     "data": {
      "text/plain": [
       "array([1, 4, 7])"
      ]
     },
     "execution_count": 2142,
     "metadata": {},
     "output_type": "execute_result"
    }
   ],
   "source": [
    "a.min(axis=1)"
   ]
  },
  {
   "cell_type": "code",
   "execution_count": 2143,
   "id": "e487d5ca-20a2-4bce-9376-b561f6eeafe8",
   "metadata": {},
   "outputs": [
    {
     "data": {
      "text/plain": [
       "np.int64(45)"
      ]
     },
     "execution_count": 2143,
     "metadata": {},
     "output_type": "execute_result"
    }
   ],
   "source": [
    "np.sum(a)"
   ]
  },
  {
   "cell_type": "code",
   "execution_count": 2144,
   "id": "f12c1957-6ee5-4c06-8846-1fb097e83c29",
   "metadata": {},
   "outputs": [
    {
     "data": {
      "text/plain": [
       "np.int64(0)"
      ]
     },
     "execution_count": 2144,
     "metadata": {},
     "output_type": "execute_result"
    }
   ],
   "source": [
    "np.argmin(a)"
   ]
  },
  {
   "cell_type": "code",
   "execution_count": 2145,
   "id": "b669afb8-5786-4ef9-8f0e-3b31ae4a5693",
   "metadata": {},
   "outputs": [
    {
     "data": {
      "text/plain": [
       "np.int64(8)"
      ]
     },
     "execution_count": 2145,
     "metadata": {},
     "output_type": "execute_result"
    }
   ],
   "source": [
    "np.argmax(a)"
   ]
  },
  {
   "cell_type": "code",
   "execution_count": 2146,
   "id": "6248f886-c014-40e7-b655-d4aad574bb17",
   "metadata": {},
   "outputs": [
    {
     "data": {
      "text/plain": [
       "array([0, 0, 0])"
      ]
     },
     "execution_count": 2146,
     "metadata": {},
     "output_type": "execute_result"
    }
   ],
   "source": [
    "np.argmin(a,axis=0)"
   ]
  },
  {
   "cell_type": "code",
   "execution_count": 2147,
   "id": "57232199-84aa-4fd7-bd52-56bc4c629d90",
   "metadata": {},
   "outputs": [
    {
     "data": {
      "text/plain": [
       "array([2, 2, 2])"
      ]
     },
     "execution_count": 2147,
     "metadata": {},
     "output_type": "execute_result"
    }
   ],
   "source": [
    "np.argmax(a,axis=1)"
   ]
  },
  {
   "cell_type": "code",
   "execution_count": 2148,
   "id": "49aa9e73-a16c-43c3-a229-2ad864740f63",
   "metadata": {},
   "outputs": [
    {
     "data": {
      "text/plain": [
       "array([[1, 2, 3],\n",
       "       [4, 5, 6],\n",
       "       [7, 8, 9]])"
      ]
     },
     "execution_count": 2148,
     "metadata": {},
     "output_type": "execute_result"
    }
   ],
   "source": [
    "a"
   ]
  },
  {
   "cell_type": "code",
   "execution_count": 2149,
   "id": "9199ee20-9228-4f2a-8ddf-51791e2c47c4",
   "metadata": {},
   "outputs": [
    {
     "data": {
      "text/plain": [
       "array([ 6, 15, 24])"
      ]
     },
     "execution_count": 2149,
     "metadata": {},
     "output_type": "execute_result"
    }
   ],
   "source": [
    "np.sum(a,axis=1)"
   ]
  },
  {
   "cell_type": "code",
   "execution_count": 2150,
   "id": "5b822a78-6ab3-41eb-a596-804c3043358c",
   "metadata": {},
   "outputs": [
    {
     "data": {
      "text/plain": [
       "array([12, 15, 18])"
      ]
     },
     "execution_count": 2150,
     "metadata": {},
     "output_type": "execute_result"
    }
   ],
   "source": [
    "np.sum(a,axis=0)"
   ]
  },
  {
   "cell_type": "code",
   "execution_count": 2151,
   "id": "4c05e01e-1803-4e80-be6a-f7b770a29a05",
   "metadata": {},
   "outputs": [
    {
     "data": {
      "text/plain": [
       "np.int64(15)"
      ]
     },
     "execution_count": 2151,
     "metadata": {},
     "output_type": "execute_result"
    }
   ],
   "source": [
    "np.trace(a)"
   ]
  },
  {
   "cell_type": "code",
   "execution_count": 2152,
   "id": "e3f7cb78-d957-494a-8261-affc52ec3eff",
   "metadata": {},
   "outputs": [
    {
     "data": {
      "text/plain": [
       "np.float64(5.0)"
      ]
     },
     "execution_count": 2152,
     "metadata": {},
     "output_type": "execute_result"
    }
   ],
   "source": [
    "np.mean(a)"
   ]
  },
  {
   "cell_type": "code",
   "execution_count": 2153,
   "id": "3c63049e-e377-4408-9536-7e534c9763d6",
   "metadata": {},
   "outputs": [
    {
     "data": {
      "text/plain": [
       "np.float64(5.0)"
      ]
     },
     "execution_count": 2153,
     "metadata": {},
     "output_type": "execute_result"
    }
   ],
   "source": [
    "np.median(a)"
   ]
  },
  {
   "cell_type": "code",
   "execution_count": 2154,
   "id": "aa3573d0-f765-4388-b726-383d10efb4d3",
   "metadata": {},
   "outputs": [
    {
     "data": {
      "text/plain": [
       "np.float64(2.581988897471611)"
      ]
     },
     "execution_count": 2154,
     "metadata": {},
     "output_type": "execute_result"
    }
   ],
   "source": [
    "np.std(a)"
   ]
  },
  {
   "cell_type": "code",
   "execution_count": 2155,
   "id": "35518e51-e4f5-4a14-b819-9ff762028526",
   "metadata": {},
   "outputs": [
    {
     "data": {
      "text/plain": [
       "np.float64(6.666666666666667)"
      ]
     },
     "execution_count": 2155,
     "metadata": {},
     "output_type": "execute_result"
    }
   ],
   "source": [
    "np.var(a)"
   ]
  },
  {
   "cell_type": "code",
   "execution_count": 2156,
   "id": "ced96e09-9139-4e9f-b575-7916983c4374",
   "metadata": {},
   "outputs": [
    {
     "data": {
      "text/plain": [
       "array([[1.        , 1.41421356, 1.73205081],\n",
       "       [2.        , 2.23606798, 2.44948974],\n",
       "       [2.64575131, 2.82842712, 3.        ]])"
      ]
     },
     "execution_count": 2156,
     "metadata": {},
     "output_type": "execute_result"
    }
   ],
   "source": [
    "np.sqrt(a)"
   ]
  },
  {
   "cell_type": "code",
   "execution_count": 2157,
   "id": "3503d7f0-57a5-44f1-b955-6b9e90380b89",
   "metadata": {},
   "outputs": [
    {
     "data": {
      "text/plain": [
       "array([[0.        , 0.69314718, 1.09861229],\n",
       "       [1.38629436, 1.60943791, 1.79175947],\n",
       "       [1.94591015, 2.07944154, 2.19722458]])"
      ]
     },
     "execution_count": 2157,
     "metadata": {},
     "output_type": "execute_result"
    }
   ],
   "source": [
    "np.log(a)"
   ]
  },
  {
   "cell_type": "code",
   "execution_count": 2158,
   "id": "51b23d1b-74e9-4fb3-96d2-97e0a0e3a215",
   "metadata": {},
   "outputs": [],
   "source": [
    "a = np.arange(1,101).reshape(10,10)"
   ]
  },
  {
   "cell_type": "code",
   "execution_count": 2159,
   "id": "3bc0b8cb-3787-4efe-a853-261451172b3c",
   "metadata": {},
   "outputs": [
    {
     "data": {
      "text/plain": [
       "array([[  1,   2,   3,   4,   5,   6,   7,   8,   9,  10],\n",
       "       [ 11,  12,  13,  14,  15,  16,  17,  18,  19,  20],\n",
       "       [ 21,  22,  23,  24,  25,  26,  27,  28,  29,  30],\n",
       "       [ 31,  32,  33,  34,  35,  36,  37,  38,  39,  40],\n",
       "       [ 41,  42,  43,  44,  45,  46,  47,  48,  49,  50],\n",
       "       [ 51,  52,  53,  54,  55,  56,  57,  58,  59,  60],\n",
       "       [ 61,  62,  63,  64,  65,  66,  67,  68,  69,  70],\n",
       "       [ 71,  72,  73,  74,  75,  76,  77,  78,  79,  80],\n",
       "       [ 81,  82,  83,  84,  85,  86,  87,  88,  89,  90],\n",
       "       [ 91,  92,  93,  94,  95,  96,  97,  98,  99, 100]])"
      ]
     },
     "execution_count": 2159,
     "metadata": {},
     "output_type": "execute_result"
    }
   ],
   "source": [
    "a"
   ]
  },
  {
   "cell_type": "code",
   "execution_count": 2160,
   "id": "aa4fd18d-728a-45d4-b026-b85429462c51",
   "metadata": {},
   "outputs": [
    {
     "data": {
      "text/plain": [
       "array([31, 32, 33, 34, 35, 36, 37, 38, 39, 40])"
      ]
     },
     "execution_count": 2160,
     "metadata": {},
     "output_type": "execute_result"
    }
   ],
   "source": [
    "a[3]"
   ]
  },
  {
   "cell_type": "code",
   "execution_count": 2161,
   "id": "b1336009-ef7e-40f0-9f2c-47f60b9f0788",
   "metadata": {},
   "outputs": [
    {
     "data": {
      "text/plain": [
       "array([[31, 32, 33, 34, 35, 36, 37, 38, 39, 40],\n",
       "       [41, 42, 43, 44, 45, 46, 47, 48, 49, 50],\n",
       "       [51, 52, 53, 54, 55, 56, 57, 58, 59, 60]])"
      ]
     },
     "execution_count": 2161,
     "metadata": {},
     "output_type": "execute_result"
    }
   ],
   "source": [
    "a[3:6]"
   ]
  },
  {
   "cell_type": "code",
   "execution_count": 2162,
   "id": "a7e7199c-0d86-4e2a-85dc-5776e29d5be4",
   "metadata": {},
   "outputs": [
    {
     "data": {
      "text/plain": [
       "array([34, 44, 54])"
      ]
     },
     "execution_count": 2162,
     "metadata": {},
     "output_type": "execute_result"
    }
   ],
   "source": [
    "a[3:6 ,3]"
   ]
  },
  {
   "cell_type": "code",
   "execution_count": 2163,
   "id": "82eb5290-659a-4b5b-ba57-f57b37469443",
   "metadata": {},
   "outputs": [
    {
     "data": {
      "text/plain": [
       "array([[34, 35, 36],\n",
       "       [44, 45, 46],\n",
       "       [54, 55, 56]])"
      ]
     },
     "execution_count": 2163,
     "metadata": {},
     "output_type": "execute_result"
    }
   ],
   "source": [
    "a[3:6 ,3:6]"
   ]
  },
  {
   "cell_type": "code",
   "execution_count": 2164,
   "id": "92c9021a-947a-4c2f-906a-5b2613fed5d1",
   "metadata": {},
   "outputs": [
    {
     "data": {
      "text/plain": [
       "array([[34, 36, 38],\n",
       "       [54, 56, 58],\n",
       "       [74, 76, 78],\n",
       "       [94, 96, 98]])"
      ]
     },
     "execution_count": 2164,
     "metadata": {},
     "output_type": "execute_result"
    }
   ],
   "source": [
    "a[3:10:2 ,3:8:2]"
   ]
  },
  {
   "cell_type": "code",
   "execution_count": 2165,
   "id": "7644ec50-2161-410b-a55d-772feaec2f0f",
   "metadata": {},
   "outputs": [
    {
     "data": {
      "text/plain": [
       "array([ 4, 14, 24, 34, 44, 54, 64, 74, 84, 94])"
      ]
     },
     "execution_count": 2165,
     "metadata": {},
     "output_type": "execute_result"
    }
   ],
   "source": [
    "a[:,3]"
   ]
  },
  {
   "cell_type": "code",
   "execution_count": 2166,
   "id": "08d10349-ecd3-4781-9b0f-51d7efc982d1",
   "metadata": {},
   "outputs": [
    {
     "data": {
      "text/plain": [
       "array([ 4, 14, 24])"
      ]
     },
     "execution_count": 2166,
     "metadata": {},
     "output_type": "execute_result"
    }
   ],
   "source": [
    "a[:3,3]"
   ]
  },
  {
   "cell_type": "code",
   "execution_count": 2167,
   "id": "c9bb6ff3-1fe4-420c-9a33-51f0b4d2d8c8",
   "metadata": {},
   "outputs": [
    {
     "data": {
      "text/plain": [
       "array([[  1,   2,   3,   4,   5,   6,   7,   8,   9,  10],\n",
       "       [ 11,  12,  13,  14,  15,  16,  17,  18,  19,  20],\n",
       "       [ 21,  22,  23,  24,  25,  26,  27,  28,  29,  30],\n",
       "       [ 31,  32,  33,  34,  35,  36,  37,  38,  39,  40],\n",
       "       [ 41,  42,  43,  44,  45,  46,  47,  48,  49,  50],\n",
       "       [ 51,  52,  53,  54,  55,  56,  57,  58,  59,  60],\n",
       "       [ 61,  62,  63,  64,  65,  66,  67,  68,  69,  70],\n",
       "       [ 71,  72,  73,  74,  75,  76,  77,  78,  79,  80],\n",
       "       [ 81,  82,  83,  84,  85,  86,  87,  88,  89,  90],\n",
       "       [ 91,  92,  93,  94,  95,  96,  97,  98,  99, 100]])"
      ]
     },
     "execution_count": 2167,
     "metadata": {},
     "output_type": "execute_result"
    }
   ],
   "source": [
    "a[:,:]"
   ]
  },
  {
   "cell_type": "code",
   "execution_count": 2168,
   "id": "cfb9dd35-44c5-4f21-bfd2-b8357d61cdd0",
   "metadata": {},
   "outputs": [
    {
     "data": {
      "text/plain": [
       "array([[  4,   6,   8,  10],\n",
       "       [ 14,  16,  18,  20],\n",
       "       [ 24,  26,  28,  30],\n",
       "       [ 34,  36,  38,  40],\n",
       "       [ 44,  46,  48,  50],\n",
       "       [ 54,  56,  58,  60],\n",
       "       [ 64,  66,  68,  70],\n",
       "       [ 74,  76,  78,  80],\n",
       "       [ 84,  86,  88,  90],\n",
       "       [ 94,  96,  98, 100]])"
      ]
     },
     "execution_count": 2168,
     "metadata": {},
     "output_type": "execute_result"
    }
   ],
   "source": [
    "a[:,3:10:2]"
   ]
  },
  {
   "cell_type": "code",
   "execution_count": 2169,
   "id": "7a778916-4dcf-4e72-8489-eab10584d7a5",
   "metadata": {},
   "outputs": [],
   "source": [
    "t = (1, 2, 3, 4, 5)"
   ]
  },
  {
   "cell_type": "code",
   "execution_count": 2170,
   "id": "bb01e29e-c04c-4c85-bb36-67b22848e00a",
   "metadata": {},
   "outputs": [
    {
     "data": {
      "text/plain": [
       "array([1, 2, 3, 4, 5])"
      ]
     },
     "execution_count": 2170,
     "metadata": {},
     "output_type": "execute_result"
    }
   ],
   "source": [
    "np.array(t)"
   ]
  },
  {
   "cell_type": "code",
   "execution_count": 2171,
   "id": "597895f9-0e87-428c-89c8-8a2b6ec75666",
   "metadata": {},
   "outputs": [],
   "source": [
    "t = {1, 2, 3, 4, 5}"
   ]
  },
  {
   "cell_type": "code",
   "execution_count": 2172,
   "id": "367e6bef-fab3-47a9-a717-15ce1b3d9771",
   "metadata": {},
   "outputs": [
    {
     "data": {
      "text/plain": [
       "array({1, 2, 3, 4, 5}, dtype=object)"
      ]
     },
     "execution_count": 2172,
     "metadata": {},
     "output_type": "execute_result"
    }
   ],
   "source": [
    "np.array(t)"
   ]
  },
  {
   "cell_type": "code",
   "execution_count": 2173,
   "id": "05078ebd-1565-471b-96d4-1f3e791e33fe",
   "metadata": {},
   "outputs": [],
   "source": [
    "t = {1, 2, 3, 4, 5}"
   ]
  },
  {
   "cell_type": "code",
   "execution_count": 2174,
   "id": "a3074d62-af5f-4604-b236-12aa3cab1893",
   "metadata": {},
   "outputs": [],
   "source": [
    "d = {\"key\":\"value\",\"Name\":\"John\"}"
   ]
  },
  {
   "cell_type": "code",
   "execution_count": 2175,
   "id": "cdc7e703-f945-4af3-9baa-6706bc26ee4a",
   "metadata": {},
   "outputs": [
    {
     "data": {
      "text/plain": [
       "array({'key': 'value', 'Name': 'John'}, dtype=object)"
      ]
     },
     "execution_count": 2175,
     "metadata": {},
     "output_type": "execute_result"
    }
   ],
   "source": [
    "np.array(d)"
   ]
  },
  {
   "cell_type": "code",
   "execution_count": 2176,
   "id": "a15ba254-ff56-487e-9ff0-bf7bc5adc2a2",
   "metadata": {},
   "outputs": [],
   "source": [
    "a = np.array([1, 2, 3, 4])"
   ]
  },
  {
   "cell_type": "code",
   "execution_count": 2177,
   "id": "795f8790-2878-4774-9f54-1499297cf24b",
   "metadata": {},
   "outputs": [
    {
     "data": {
      "text/plain": [
       "array([1, 2, 3, 4])"
      ]
     },
     "execution_count": 2177,
     "metadata": {},
     "output_type": "execute_result"
    }
   ],
   "source": [
    "a"
   ]
  },
  {
   "cell_type": "code",
   "execution_count": 2178,
   "id": "aa3a5389-46dd-4ddf-ac17-e5cf276cd0f8",
   "metadata": {},
   "outputs": [
    {
     "data": {
      "text/plain": [
       "[np.int64(1), np.int64(2), np.int64(3), np.int64(4)]"
      ]
     },
     "execution_count": 2178,
     "metadata": {},
     "output_type": "execute_result"
    }
   ],
   "source": [
    "list(a)"
   ]
  },
  {
   "cell_type": "code",
   "execution_count": 2179,
   "id": "9693ef67-5473-4e31-982a-9d0289a08194",
   "metadata": {},
   "outputs": [
    {
     "data": {
      "text/plain": [
       "(np.int64(1), np.int64(2), np.int64(3), np.int64(4))"
      ]
     },
     "execution_count": 2179,
     "metadata": {},
     "output_type": "execute_result"
    }
   ],
   "source": [
    "tuple(a)"
   ]
  },
  {
   "cell_type": "code",
   "execution_count": 2180,
   "id": "bac567db-23c1-41c6-a5ea-013c9d910817",
   "metadata": {},
   "outputs": [
    {
     "data": {
      "text/plain": [
       "{np.int64(1), np.int64(2), np.int64(3), np.int64(4)}"
      ]
     },
     "execution_count": 2180,
     "metadata": {},
     "output_type": "execute_result"
    }
   ],
   "source": [
    "set(a)"
   ]
  },
  {
   "cell_type": "code",
   "execution_count": 2181,
   "id": "064ef20a-b932-4875-a5ff-78326da5b60f",
   "metadata": {},
   "outputs": [
    {
     "data": {
      "text/plain": [
       "'[1 2 3 4]'"
      ]
     },
     "execution_count": 2181,
     "metadata": {},
     "output_type": "execute_result"
    }
   ],
   "source": [
    "str(a)"
   ]
  },
  {
   "cell_type": "code",
   "execution_count": 2182,
   "id": "b9439a56-7b80-4397-96b2-53261ffb8ece",
   "metadata": {},
   "outputs": [],
   "source": [
    "a = np.arange(1,10).reshape(3,3)\n",
    "b = np.arange(1,10).reshape(3,3)"
   ]
  },
  {
   "cell_type": "code",
   "execution_count": 2183,
   "id": "567b8645-bb9e-414a-a9b8-af6e80c69cca",
   "metadata": {},
   "outputs": [
    {
     "data": {
      "text/plain": [
       "array([[1, 2, 3],\n",
       "       [4, 5, 6],\n",
       "       [7, 8, 9]])"
      ]
     },
     "execution_count": 2183,
     "metadata": {},
     "output_type": "execute_result"
    }
   ],
   "source": [
    "a"
   ]
  },
  {
   "cell_type": "code",
   "execution_count": 2184,
   "id": "d5d41ee8-8322-4622-9a98-73b5f00f0463",
   "metadata": {},
   "outputs": [
    {
     "data": {
      "text/plain": [
       "array([[1, 2, 3],\n",
       "       [4, 5, 6],\n",
       "       [7, 8, 9]])"
      ]
     },
     "execution_count": 2184,
     "metadata": {},
     "output_type": "execute_result"
    }
   ],
   "source": [
    "b"
   ]
  },
  {
   "cell_type": "code",
   "execution_count": 2185,
   "id": "13afe1b8-4bb5-45b7-9011-877d3aff3248",
   "metadata": {},
   "outputs": [
    {
     "data": {
      "text/plain": [
       "array([[ 30,  36,  42],\n",
       "       [ 66,  81,  96],\n",
       "       [102, 126, 150]])"
      ]
     },
     "execution_count": 2185,
     "metadata": {},
     "output_type": "execute_result"
    }
   ],
   "source": [
    "np.dot(a, b)"
   ]
  },
  {
   "cell_type": "code",
   "execution_count": 2186,
   "id": "cd57a6c0-a9df-403e-99bc-c17f585a8fd2",
   "metadata": {},
   "outputs": [
    {
     "data": {
      "text/plain": [
       "array([[ 1,  4,  9],\n",
       "       [16, 25, 36],\n",
       "       [49, 64, 81]])"
      ]
     },
     "execution_count": 2186,
     "metadata": {},
     "output_type": "execute_result"
    }
   ],
   "source": [
    "np.multiply(a, b)"
   ]
  },
  {
   "cell_type": "markdown",
   "id": "87449f29-4658-449e-9455-8003b81e488f",
   "metadata": {},
   "source": [
    "concatanation"
   ]
  },
  {
   "cell_type": "code",
   "execution_count": 2187,
   "id": "b957ca61-850e-4060-a52b-30f760adb93f",
   "metadata": {},
   "outputs": [],
   "source": [
    "a = np.arange(1,17).reshape(4,4)\n",
    "b = np.arange(17,33).reshape(4,4)"
   ]
  },
  {
   "cell_type": "code",
   "execution_count": 2188,
   "id": "388f5e25-22a8-4e2d-ae2b-a185eb7ec9ea",
   "metadata": {},
   "outputs": [
    {
     "data": {
      "text/plain": [
       "array([[ 1,  2,  3,  4],\n",
       "       [ 5,  6,  7,  8],\n",
       "       [ 9, 10, 11, 12],\n",
       "       [13, 14, 15, 16]])"
      ]
     },
     "execution_count": 2188,
     "metadata": {},
     "output_type": "execute_result"
    }
   ],
   "source": [
    "a"
   ]
  },
  {
   "cell_type": "code",
   "execution_count": 2189,
   "id": "47898964-6c30-4e7f-8f46-a9c721f5f565",
   "metadata": {},
   "outputs": [
    {
     "data": {
      "text/plain": [
       "array([[17, 18, 19, 20],\n",
       "       [21, 22, 23, 24],\n",
       "       [25, 26, 27, 28],\n",
       "       [29, 30, 31, 32]])"
      ]
     },
     "execution_count": 2189,
     "metadata": {},
     "output_type": "execute_result"
    }
   ],
   "source": [
    "b"
   ]
  },
  {
   "cell_type": "code",
   "execution_count": 2190,
   "id": "7b47da49-f66d-4fe7-93c9-7b50be9c75c1",
   "metadata": {},
   "outputs": [
    {
     "data": {
      "text/plain": [
       "array([[ 1,  2,  3,  4],\n",
       "       [ 5,  6,  7,  8],\n",
       "       [ 9, 10, 11, 12],\n",
       "       [13, 14, 15, 16],\n",
       "       [17, 18, 19, 20],\n",
       "       [21, 22, 23, 24],\n",
       "       [25, 26, 27, 28],\n",
       "       [29, 30, 31, 32]])"
      ]
     },
     "execution_count": 2190,
     "metadata": {},
     "output_type": "execute_result"
    }
   ],
   "source": [
    "np.concatenate((a,b))"
   ]
  },
  {
   "cell_type": "code",
   "execution_count": 2191,
   "id": "b6d71c04-8804-45f3-8e97-7d66e760af27",
   "metadata": {},
   "outputs": [
    {
     "data": {
      "text/plain": [
       "array([[ 1,  2,  3,  4, 17, 18, 19, 20],\n",
       "       [ 5,  6,  7,  8, 21, 22, 23, 24],\n",
       "       [ 9, 10, 11, 12, 25, 26, 27, 28],\n",
       "       [13, 14, 15, 16, 29, 30, 31, 32]])"
      ]
     },
     "execution_count": 2191,
     "metadata": {},
     "output_type": "execute_result"
    }
   ],
   "source": [
    "np.concatenate((a,b),axis=1)"
   ]
  },
  {
   "cell_type": "code",
   "execution_count": 2192,
   "id": "c85ecf75-834b-4948-8933-757657fab516",
   "metadata": {},
   "outputs": [
    {
     "data": {
      "text/plain": [
       "array([[ 1,  2,  3,  4, 17, 18, 19, 20],\n",
       "       [ 5,  6,  7,  8, 21, 22, 23, 24],\n",
       "       [ 9, 10, 11, 12, 25, 26, 27, 28],\n",
       "       [13, 14, 15, 16, 29, 30, 31, 32]])"
      ]
     },
     "execution_count": 2192,
     "metadata": {},
     "output_type": "execute_result"
    }
   ],
   "source": [
    "np.hstack((a, b))"
   ]
  },
  {
   "cell_type": "code",
   "execution_count": 2193,
   "id": "3b069364-d581-4cb8-a2d3-572651e80a9f",
   "metadata": {},
   "outputs": [
    {
     "data": {
      "text/plain": [
       "array([[ 1,  2,  3,  4],\n",
       "       [ 5,  6,  7,  8],\n",
       "       [ 9, 10, 11, 12],\n",
       "       [13, 14, 15, 16],\n",
       "       [17, 18, 19, 20],\n",
       "       [21, 22, 23, 24],\n",
       "       [25, 26, 27, 28],\n",
       "       [29, 30, 31, 32]])"
      ]
     },
     "execution_count": 2193,
     "metadata": {},
     "output_type": "execute_result"
    }
   ],
   "source": [
    "np.vstack((a ,b))"
   ]
  },
  {
   "cell_type": "code",
   "execution_count": 2194,
   "id": "0f578f18-f2f0-4dc0-8172-e32ca5ec45ff",
   "metadata": {},
   "outputs": [
    {
     "data": {
      "text/plain": [
       "array([[ 1,  2,  3,  4],\n",
       "       [ 5,  6,  7,  8],\n",
       "       [ 9, 10, 11, 12],\n",
       "       [13, 14, 15, 16]])"
      ]
     },
     "execution_count": 2194,
     "metadata": {},
     "output_type": "execute_result"
    }
   ],
   "source": [
    "a"
   ]
  },
  {
   "cell_type": "code",
   "execution_count": 2195,
   "id": "3175b72b-2cd6-4e02-a83f-06810a360a85",
   "metadata": {},
   "outputs": [
    {
     "data": {
      "text/plain": [
       "[array([[1, 2, 3, 4],\n",
       "        [5, 6, 7, 8]]),\n",
       " array([[ 9, 10, 11, 12],\n",
       "        [13, 14, 15, 16]])]"
      ]
     },
     "execution_count": 2195,
     "metadata": {},
     "output_type": "execute_result"
    }
   ],
   "source": [
    "np.split(a,2)"
   ]
  },
  {
   "cell_type": "code",
   "execution_count": 2196,
   "id": "132f4291-7bcd-4a08-b6e2-fe96b7b86e95",
   "metadata": {},
   "outputs": [
    {
     "data": {
      "text/plain": [
       "array([[ 1,  2,  3,  4],\n",
       "       [ 5,  6,  7,  8],\n",
       "       [ 9, 10, 11, 12],\n",
       "       [13, 14, 15, 16]])"
      ]
     },
     "execution_count": 2196,
     "metadata": {},
     "output_type": "execute_result"
    }
   ],
   "source": [
    "a"
   ]
  },
  {
   "cell_type": "code",
   "execution_count": 2197,
   "id": "df24b723-bde0-4195-a451-02d08028f5fd",
   "metadata": {},
   "outputs": [
    {
     "data": {
      "text/plain": [
       "[array([[1, 2, 3, 4]]),\n",
       " array([[5, 6, 7, 8]]),\n",
       " array([[ 9, 10, 11, 12]]),\n",
       " array([[13, 14, 15, 16]])]"
      ]
     },
     "execution_count": 2197,
     "metadata": {},
     "output_type": "execute_result"
    }
   ],
   "source": [
    "np.split(a,4)"
   ]
  },
  {
   "cell_type": "code",
   "execution_count": 2198,
   "id": "f5987f42-9404-44fd-8226-5fe87a64640a",
   "metadata": {},
   "outputs": [
    {
     "data": {
      "text/plain": [
       "[array([[ 1,  2],\n",
       "        [ 5,  6],\n",
       "        [ 9, 10],\n",
       "        [13, 14]]),\n",
       " array([[ 3,  4],\n",
       "        [ 7,  8],\n",
       "        [11, 12],\n",
       "        [15, 16]])]"
      ]
     },
     "execution_count": 2198,
     "metadata": {},
     "output_type": "execute_result"
    }
   ],
   "source": [
    "np.split(a,2, axis=1)"
   ]
  },
  {
   "cell_type": "code",
   "execution_count": 2199,
   "id": "1d7e2282-b0ca-4bc2-aed9-15b331c43c10",
   "metadata": {},
   "outputs": [
    {
     "data": {
      "text/plain": [
       "[array([[ 1],\n",
       "        [ 5],\n",
       "        [ 9],\n",
       "        [13]]),\n",
       " array([[ 2],\n",
       "        [ 6],\n",
       "        [10],\n",
       "        [14]]),\n",
       " array([[ 3],\n",
       "        [ 7],\n",
       "        [11],\n",
       "        [15]]),\n",
       " array([[ 4],\n",
       "        [ 8],\n",
       "        [12],\n",
       "        [16]])]"
      ]
     },
     "execution_count": 2199,
     "metadata": {},
     "output_type": "execute_result"
    }
   ],
   "source": [
    "np.split(a,4, axis=1)"
   ]
  },
  {
   "cell_type": "code",
   "execution_count": 2200,
   "id": "3ca9cb21-1c04-42d2-a2d6-ace8a7261e48",
   "metadata": {},
   "outputs": [],
   "source": [
    "s = np.array([11, 22, 33, 44, 55, 66, 77,88])"
   ]
  },
  {
   "cell_type": "code",
   "execution_count": 2201,
   "id": "d4916c0e-cc6b-4d5d-a9f8-53af970b1b12",
   "metadata": {},
   "outputs": [
    {
     "data": {
      "text/plain": [
       "array([11, 22, 33, 44, 55, 66, 77, 88])"
      ]
     },
     "execution_count": 2201,
     "metadata": {},
     "output_type": "execute_result"
    }
   ],
   "source": [
    "s"
   ]
  },
  {
   "cell_type": "code",
   "execution_count": 2202,
   "id": "7232497c-a87a-4e3b-b69e-8876a0e34887",
   "metadata": {},
   "outputs": [
    {
     "data": {
      "text/plain": [
       "[array([11, 22]), array([33, 44, 55, 66, 77, 88])]"
      ]
     },
     "execution_count": 2202,
     "metadata": {},
     "output_type": "execute_result"
    }
   ],
   "source": [
    "np.split(s,[2])"
   ]
  },
  {
   "cell_type": "code",
   "execution_count": 2203,
   "id": "a1e1d708-dafe-45c1-a5bc-8a97f42155f3",
   "metadata": {},
   "outputs": [
    {
     "data": {
      "text/plain": [
       "[array([11, 22, 33]), array([44, 55, 66, 77, 88])]"
      ]
     },
     "execution_count": 2203,
     "metadata": {},
     "output_type": "execute_result"
    }
   ],
   "source": [
    "np.split(s,[3])"
   ]
  },
  {
   "cell_type": "code",
   "execution_count": 2204,
   "id": "88f8a215-1d7b-42f3-a64a-64e2b51db1e8",
   "metadata": {},
   "outputs": [
    {
     "data": {
      "text/plain": [
       "[array([11, 22]), array([33, 44, 55, 66, 77, 88])]"
      ]
     },
     "execution_count": 2204,
     "metadata": {},
     "output_type": "execute_result"
    }
   ],
   "source": [
    "np.split(s,[2])"
   ]
  },
  {
   "cell_type": "code",
   "execution_count": 2205,
   "id": "4c154680-ddf0-4f72-b4c8-c53094b45a73",
   "metadata": {},
   "outputs": [
    {
     "data": {
      "text/plain": [
       "[array([11, 22, 33]), array([44, 55, 66, 77]), array([88])]"
      ]
     },
     "execution_count": 2205,
     "metadata": {},
     "output_type": "execute_result"
    }
   ],
   "source": [
    "np.split(s,[3,7])"
   ]
  },
  {
   "cell_type": "code",
   "execution_count": 2206,
   "id": "f4bdf128-5b63-4511-92af-11d17ff90d96",
   "metadata": {},
   "outputs": [
    {
     "data": {
      "text/plain": [
       "[array([11, 22, 33]), array([44]), array([55, 66, 77, 88])]"
      ]
     },
     "execution_count": 2206,
     "metadata": {},
     "output_type": "execute_result"
    }
   ],
   "source": [
    "np.split(s,[3,4])"
   ]
  },
  {
   "cell_type": "code",
   "execution_count": 2207,
   "id": "910e89f3-a504-451d-8819-a08e730b81cd",
   "metadata": {},
   "outputs": [
    {
     "data": {
      "text/plain": [
       "array([[ 1,  2,  3,  4],\n",
       "       [ 5,  6,  7,  8],\n",
       "       [ 9, 10, 11, 12],\n",
       "       [13, 14, 15, 16]])"
      ]
     },
     "execution_count": 2207,
     "metadata": {},
     "output_type": "execute_result"
    }
   ],
   "source": [
    "a"
   ]
  },
  {
   "cell_type": "markdown",
   "id": "b42f322a-91b5-4ca8-9ed4-7542486f45aa",
   "metadata": {},
   "source": [
    "#from import random *"
   ]
  },
  {
   "cell_type": "code",
   "execution_count": 2208,
   "id": "3bf3e813-313a-4ca7-92c6-c20953597a9a",
   "metadata": {},
   "outputs": [
    {
     "data": {
      "text/plain": [
       "0.50429076180475"
      ]
     },
     "execution_count": 2208,
     "metadata": {},
     "output_type": "execute_result"
    }
   ],
   "source": [
    "np.random.random()"
   ]
  },
  {
   "cell_type": "code",
   "execution_count": 2209,
   "id": "28735d35-37ff-4187-a392-525fce76f143",
   "metadata": {},
   "outputs": [
    {
     "data": {
      "text/plain": [
       "array([[0.77690984, 0.9301421 , 0.87597664, 0.7040494 , 0.23516241],\n",
       "       [0.90190523, 0.91779881, 0.11328332, 0.50367855, 0.39464543],\n",
       "       [0.32130667, 0.70335498, 0.54223323, 0.32923162, 0.01689841]])"
      ]
     },
     "execution_count": 2209,
     "metadata": {},
     "output_type": "execute_result"
    }
   ],
   "source": [
    "np.random.random((3,5))"
   ]
  },
  {
   "cell_type": "code",
   "execution_count": 2210,
   "id": "fdae3de0-a9f3-4b97-96c0-266760e65e81",
   "metadata": {},
   "outputs": [
    {
     "data": {
      "text/plain": [
       "array([[[0.95983164, 0.14449055, 0.84102223, 0.12180854, 0.64164066],\n",
       "        [0.0879438 , 0.48442794, 0.51151886, 0.51389286, 0.21745356],\n",
       "        [0.83839205, 0.59736971, 0.73636564, 0.12125849, 0.55380975]],\n",
       "\n",
       "       [[0.84371426, 0.6147726 , 0.0692411 , 0.62038741, 0.24517206],\n",
       "        [0.57576722, 0.92762632, 0.04306461, 0.83836053, 0.50653345],\n",
       "        [0.57619697, 0.67619769, 0.09378159, 0.47775952, 0.79416054]]])"
      ]
     },
     "execution_count": 2210,
     "metadata": {},
     "output_type": "execute_result"
    }
   ],
   "source": [
    "np.random.random(((2,3,5)))"
   ]
  },
  {
   "cell_type": "code",
   "execution_count": 2211,
   "id": "c27da1b6-0c92-4fea-b902-43e96b657208",
   "metadata": {},
   "outputs": [
    {
     "data": {
      "text/plain": [
       "0"
      ]
     },
     "execution_count": 2211,
     "metadata": {},
     "output_type": "execute_result"
    }
   ],
   "source": [
    "np.random.randint(2)"
   ]
  },
  {
   "cell_type": "code",
   "execution_count": 2212,
   "id": "5ee64ae8-3037-4233-ba71-32146294d24b",
   "metadata": {},
   "outputs": [
    {
     "data": {
      "text/plain": [
       "2"
      ]
     },
     "execution_count": 2212,
     "metadata": {},
     "output_type": "execute_result"
    }
   ],
   "source": [
    "np.random.randint(16)\n"
   ]
  },
  {
   "cell_type": "code",
   "execution_count": 2213,
   "id": "cd15d78d-af36-44be-b9f1-6ac5fbcdea58",
   "metadata": {},
   "outputs": [
    {
     "data": {
      "text/plain": [
       "array([[ 7, 12, 13,  4],\n",
       "       [ 6, 14, 11, 10]], dtype=int32)"
      ]
     },
     "execution_count": 2213,
     "metadata": {},
     "output_type": "execute_result"
    }
   ],
   "source": [
    "np.random.randint(15,size=(2, 4))"
   ]
  },
  {
   "cell_type": "code",
   "execution_count": 2214,
   "id": "a4a32973-7b76-447d-9764-f01179e3e31c",
   "metadata": {},
   "outputs": [
    {
     "data": {
      "text/plain": [
       "array([[[12, 13,  2,  1],\n",
       "        [ 4,  4,  6, 10],\n",
       "        [14,  9,  9,  9],\n",
       "        [ 2,  5,  7, 12]],\n",
       "\n",
       "       [[ 6,  9,  2,  4],\n",
       "        [11,  0, 10,  6],\n",
       "        [13,  5,  7, 14],\n",
       "        [ 8,  6,  7,  6]]], dtype=int32)"
      ]
     },
     "execution_count": 2214,
     "metadata": {},
     "output_type": "execute_result"
    }
   ],
   "source": [
    "np.random.randint(15,size=(2, 4,4))"
   ]
  },
  {
   "cell_type": "code",
   "execution_count": 2215,
   "id": "21eaf662-ea03-4c6e-9330-e50304129ebc",
   "metadata": {},
   "outputs": [
    {
     "data": {
      "text/plain": [
       "array([ 1.        ,  1.28571429,  1.57142857,  1.85714286,  2.14285714,\n",
       "        2.42857143,  2.71428571,  3.        ,  3.28571429,  3.57142857,\n",
       "        3.85714286,  4.14285714,  4.42857143,  4.71428571,  5.        ,\n",
       "        5.28571429,  5.57142857,  5.85714286,  6.14285714,  6.42857143,\n",
       "        6.71428571,  7.        ,  7.28571429,  7.57142857,  7.85714286,\n",
       "        8.14285714,  8.42857143,  8.71428571,  9.        ,  9.28571429,\n",
       "        9.57142857,  9.85714286, 10.14285714, 10.42857143, 10.71428571,\n",
       "       11.        , 11.28571429, 11.57142857, 11.85714286, 12.14285714,\n",
       "       12.42857143, 12.71428571, 13.        , 13.28571429, 13.57142857,\n",
       "       13.85714286, 14.14285714, 14.42857143, 14.71428571, 15.        ])"
      ]
     },
     "execution_count": 2215,
     "metadata": {},
     "output_type": "execute_result"
    }
   ],
   "source": [
    "np.linspace(1,15)"
   ]
  },
  {
   "cell_type": "code",
   "execution_count": 2216,
   "id": "13bebac1-8552-4bc9-b148-a1f6a2af34d1",
   "metadata": {},
   "outputs": [
    {
     "data": {
      "text/plain": [
       "array([ 1.        ,  1.58333333,  2.16666667,  2.75      ,  3.33333333,\n",
       "        3.91666667,  4.5       ,  5.08333333,  5.66666667,  6.25      ,\n",
       "        6.83333333,  7.41666667,  8.        ,  8.58333333,  9.16666667,\n",
       "        9.75      , 10.33333333, 10.91666667, 11.5       , 12.08333333,\n",
       "       12.66666667, 13.25      , 13.83333333, 14.41666667, 15.        ])"
      ]
     },
     "execution_count": 2216,
     "metadata": {},
     "output_type": "execute_result"
    }
   ],
   "source": [
    "np.linspace(1,15,25)"
   ]
  },
  {
   "cell_type": "code",
   "execution_count": 2217,
   "id": "b8ce3c87-1ef4-4d2c-884b-6d5d8a795bde",
   "metadata": {},
   "outputs": [
    {
     "data": {
      "text/plain": [
       "array([[ 1,  2,  3,  4],\n",
       "       [ 5,  6,  7,  8],\n",
       "       [ 9, 10, 11, 12],\n",
       "       [13, 14, 15, 16]])"
      ]
     },
     "execution_count": 2217,
     "metadata": {},
     "output_type": "execute_result"
    }
   ],
   "source": [
    "a"
   ]
  },
  {
   "cell_type": "code",
   "execution_count": 2218,
   "id": "6fbd6a96-e9a7-4bbf-b680-3c5ec4eb0673",
   "metadata": {},
   "outputs": [
    {
     "data": {
      "text/plain": [
       "array([57.17235924, 43.48087755, 89.81123972, 15.39661376, 74.91957642,\n",
       "       85.37272301, 78.30995967, 75.20229936, 23.75424333, 66.6739534 ,\n",
       "       77.44779387, 96.78092693, 22.7201168 , 36.94894151, 52.18903011,\n",
       "       31.34527045, 83.06693908, 90.30939684, 88.77841961,  6.93451587,\n",
       "       32.39045605, 29.77771924, 91.32077875, 56.97063182, 85.38752739,\n",
       "       99.95137474, 74.96612586, 60.1358359 , 87.31664883, 77.36824798,\n",
       "       94.62609487, 94.18284424, 90.95606551, 45.26005268, 60.3498697 ,\n",
       "       58.24526035, 32.74022458,  8.43755774, 28.30368095, 37.3254906 ,\n",
       "       82.40654848, 37.28054953, 79.8559216 , 24.67436839, 74.08234602,\n",
       "       44.75325377, 36.65354472, 23.58419506, 47.70048097, 40.64190974,\n",
       "       80.3432825 ,  3.64333273, 91.42475855, 23.63098594, 96.76391596,\n",
       "       96.62994366,  5.58623048, 18.52524503, 63.36598415,  2.73225798,\n",
       "        6.53182274, 69.71959165, 47.55352252, 37.73585421, 75.66417651,\n",
       "       45.18498811, 85.61778465, 32.47500247, 67.57471216, 83.03294098,\n",
       "       91.44897005, 11.74480932, 78.09645134, 27.43405467, 89.12018022,\n",
       "       43.77089808, 48.76717566, 35.05555925, 25.69280474, 42.63603316,\n",
       "       48.72282189, 50.09824077, 21.15396698, 43.56600053, 69.10720966,\n",
       "        8.82302897,  4.26067438, 89.36958727, 27.99774342, 29.19922875,\n",
       "       22.53755135, 76.09278068, 86.27109305, 18.5623023 , 44.92164574,\n",
       "       91.30961719, 35.23057374,  5.14254557, 78.10282258, 71.90759487,\n",
       "       17.53291595,  6.4831707 , 19.41426054, 86.71195167, 83.91691265,\n",
       "       34.53786619, 98.43541317, 98.66309658, 64.22848394, 75.7063316 ,\n",
       "       70.61672318,  1.16945787, 64.34142279, 54.41901567, 97.54374089,\n",
       "        2.66604136, 71.90434845, 63.06378562, 37.49825916, 64.51408685,\n",
       "       63.49642426, 81.11873802, 76.67329103, 31.61639687, 60.09230009,\n",
       "       76.63470712, 50.38936672, 15.20413294, 56.58885833, 80.96376727,\n",
       "       31.52323806, 21.31953963,  4.80313182, 55.87380368, 85.39588739,\n",
       "       45.04722389, 46.83919415, 20.58480815, 78.83540338, 80.08029139,\n",
       "        9.127437  , 46.62444884, 17.8297336 , 90.00528292, 52.78299621,\n",
       "       99.43734726, 59.93782919, 39.8874616 , 68.88337395, 34.37624364,\n",
       "       22.06449013, 28.63146541,  8.37025499, 36.76178618, 77.097591  ,\n",
       "       43.24244567, 14.86027612,  8.5068591 , 90.63611205, 82.43128213,\n",
       "       11.46784542, 24.26472391, 92.34600428, 16.62633459, 64.84991111,\n",
       "        8.40055608, 18.40236895, 16.93013821, 41.3463096 , 39.23381032,\n",
       "       52.11121619, 77.56727821, 57.75465199, 98.80035094, 14.85048827,\n",
       "       68.65136946, 98.27819956, 28.45913945, 65.48533659, 96.14477152,\n",
       "       48.35932566, 47.50764527, 55.05759658,  4.90395407, 36.34774915,\n",
       "        8.79505772, 84.86498934, 32.19633074, 15.44002515, 55.14970952,\n",
       "       60.98719562, 29.26149292,  2.5704448 , 36.9237418 ,  5.18460044,\n",
       "       33.13657961,  6.44224463, 38.78781271, 97.19351169, 89.59925862,\n",
       "       92.05313276, 10.5478191 , 78.74442766, 69.38617662, 91.34296496,\n",
       "       76.74448427, 55.78400815, 66.97297169, 14.48329504, 25.60338175,\n",
       "       94.26993506, 39.86232539, 72.61735017, 22.58439778,  5.33613874,\n",
       "       40.04750111, 36.2305747 , 27.7371896 , 91.71994553, 92.30261371,\n",
       "       32.98558315, 57.71665908, 38.61187163, 84.44189635, 51.79952339,\n",
       "       34.22675374, 54.9884848 , 25.64644048, 59.21085087, 68.16854937,\n",
       "       21.54950616,  1.0122419 , 48.88769512,  2.17076956, 77.19778413,\n",
       "       12.83774587, 83.21832753, 68.95927748, 44.1454726 , 28.74060908,\n",
       "        3.55662664,  8.32233773, 74.39889121,  1.82589626, 47.96707176,\n",
       "       44.89144778, 25.62600631, 35.06785135, 66.95715848, 75.59799776])"
      ]
     },
     "execution_count": 2218,
     "metadata": {},
     "output_type": "execute_result"
    }
   ],
   "source": [
    "np.random.uniform(1,100,250)"
   ]
  },
  {
   "cell_type": "code",
   "execution_count": 2219,
   "id": "0773c0c2-d193-4f31-9235-1ad005e2c520",
   "metadata": {},
   "outputs": [
    {
     "data": {
      "text/plain": [
       "array([18.31490126, 24.08507043, 22.1364191 , 22.80651144, 19.09118536,\n",
       "       27.09618314, 23.33328136, 18.28984436, 20.27539941, 24.71161578,\n",
       "       15.35320669, 26.64429203, 23.58515694, 29.25282668, 20.97953427,\n",
       "       20.11385529, 19.02787092, 17.70038368, 26.1672314 , 19.16519594,\n",
       "       15.15715524, 19.74595513, 19.83396818, 12.3858119 , 18.15247997,\n",
       "       20.42148544, 18.61204431, 20.07026632, 14.05864345, 20.14575007,\n",
       "       21.35951369, 15.59434348, 16.03837718, 11.03280538, 13.68902009,\n",
       "       18.76389746, 25.54735036, 20.16906657, 24.80790275, 16.75472915,\n",
       "       30.95545478, 23.66071344, 20.17465539, 14.42610672, 26.73171343,\n",
       "       15.52299195, 19.91696273, 30.99427739, 17.14239324, 19.35495197,\n",
       "       26.20389362, 20.74787042, 23.93509627, 10.98962478,  6.69371811,\n",
       "       10.53271346, 24.11517585, 26.93221916, 20.06743845, 13.37903264,\n",
       "       19.42087065, 10.57597035, 10.74345337, 25.28484435, 35.87194314,\n",
       "       19.03543033, 23.94598183, 16.3462577 , 18.26541443, 17.33313805,\n",
       "       16.33678839, 26.07636637, 19.10077761,  8.07141242, 21.6095911 ,\n",
       "       23.86397363, 26.02356737, 27.74020623, 23.89411053, 23.4065193 ,\n",
       "       11.77213416, 11.96492169, 20.81203896, 12.45803091, 23.50268663,\n",
       "       22.23477295, 26.4726674 , 13.72638669, 22.02034207, 25.12078419,\n",
       "       23.87968635, 26.60510301, 24.15911098, 21.12029999, 20.82019275,\n",
       "       21.40794894, 25.43291175, 20.19438935, 26.5141773 ,  5.21313211])"
      ]
     },
     "execution_count": 2219,
     "metadata": {},
     "output_type": "execute_result"
    }
   ],
   "source": [
    "np.random.normal(20,5,100)"
   ]
  },
  {
   "cell_type": "code",
   "execution_count": 2220,
   "id": "1ba0b54f-7508-48d9-9a99-094adc83c36d",
   "metadata": {},
   "outputs": [
    {
     "data": {
      "text/plain": [
       "250"
      ]
     },
     "execution_count": 2220,
     "metadata": {},
     "output_type": "execute_result"
    }
   ],
   "source": [
    "len(np.random.uniform(1,100,250))"
   ]
  },
  {
   "cell_type": "code",
   "execution_count": 2221,
   "id": "917c506a-454c-40a4-81db-463c7ab9a0be",
   "metadata": {},
   "outputs": [],
   "source": [
    "s = \"hello\"\n",
    "s1 =\"world\""
   ]
  },
  {
   "cell_type": "code",
   "execution_count": 2222,
   "id": "86a31ed5-b25d-44fb-9f5a-3afdfbeffc5f",
   "metadata": {},
   "outputs": [
    {
     "data": {
      "text/plain": [
       "'helloworld'"
      ]
     },
     "execution_count": 2222,
     "metadata": {},
     "output_type": "execute_result"
    }
   ],
   "source": [
    "s + s1"
   ]
  },
  {
   "cell_type": "code",
   "execution_count": 2223,
   "id": "5e1bf9e6-d49d-46ce-aad6-b4900307b776",
   "metadata": {},
   "outputs": [
    {
     "data": {
      "text/plain": [
       "np.str_('helloworld')"
      ]
     },
     "execution_count": 2223,
     "metadata": {},
     "output_type": "execute_result"
    }
   ],
   "source": [
    "np.char.add(s,s1)"
   ]
  },
  {
   "cell_type": "code",
   "execution_count": 2224,
   "id": "815215a7-991d-4209-baa0-2fb6c187f79e",
   "metadata": {},
   "outputs": [
    {
     "data": {
      "text/plain": [
       "array('HELLO', dtype='<U5')"
      ]
     },
     "execution_count": 2224,
     "metadata": {},
     "output_type": "execute_result"
    }
   ],
   "source": [
    "np.char.upper(s)"
   ]
  },
  {
   "cell_type": "code",
   "execution_count": 2225,
   "id": "ca7a8f3c-d5fe-496b-b2d8-9da0b683fb3b",
   "metadata": {},
   "outputs": [
    {
     "data": {
      "text/plain": [
       "array('*******hello********', dtype='<U20')"
      ]
     },
     "execution_count": 2225,
     "metadata": {},
     "output_type": "execute_result"
    }
   ],
   "source": [
    "np.char.center(s,20, '*')"
   ]
  },
  {
   "cell_type": "code",
   "execution_count": null,
   "id": "b2642dcd-17ee-46b8-9203-54be7ff32897",
   "metadata": {},
   "outputs": [],
   "source": []
  },
  {
   "cell_type": "code",
   "execution_count": null,
   "id": "29a4a100-5613-48c8-b8af-a9f2e80fff85",
   "metadata": {},
   "outputs": [],
   "source": []
  },
  {
   "cell_type": "code",
   "execution_count": null,
   "id": "47adad13-c974-46d4-b3d2-c763e17a17e6",
   "metadata": {},
   "outputs": [],
   "source": []
  },
  {
   "cell_type": "code",
   "execution_count": null,
   "id": "86184d31-27cd-4356-b9cf-4307c59d2619",
   "metadata": {},
   "outputs": [],
   "source": []
  },
  {
   "cell_type": "code",
   "execution_count": null,
   "id": "c50baea5-af7e-4acb-b31a-11a3dc2f4e7d",
   "metadata": {},
   "outputs": [],
   "source": []
  },
  {
   "cell_type": "code",
   "execution_count": null,
   "id": "d3571796-af96-4730-84cd-9a65965a6860",
   "metadata": {},
   "outputs": [],
   "source": []
  },
  {
   "cell_type": "code",
   "execution_count": null,
   "id": "0fe77943-a1a2-46a4-af68-823f7e05cf76",
   "metadata": {},
   "outputs": [],
   "source": []
  },
  {
   "cell_type": "code",
   "execution_count": null,
   "id": "1ea0aafd-9dde-4222-900e-9abba7aaa7e4",
   "metadata": {},
   "outputs": [],
   "source": []
  }
 ],
 "metadata": {
  "kernelspec": {
   "display_name": "Python 3 (ipykernel)",
   "language": "python",
   "name": "python3"
  },
  "language_info": {
   "codemirror_mode": {
    "name": "ipython",
    "version": 3
   },
   "file_extension": ".py",
   "mimetype": "text/x-python",
   "name": "python",
   "nbconvert_exporter": "python",
   "pygments_lexer": "ipython3",
   "version": "3.13.5"
  }
 },
 "nbformat": 4,
 "nbformat_minor": 5
}
